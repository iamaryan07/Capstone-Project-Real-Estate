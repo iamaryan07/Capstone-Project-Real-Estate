{
 "cells": [
  {
   "cell_type": "code",
   "execution_count": 1,
   "id": "ddf5cab7",
   "metadata": {},
   "outputs": [],
   "source": [
    "import pandas as pd"
   ]
  },
  {
   "cell_type": "code",
   "execution_count": 4,
   "id": "792eeab9",
   "metadata": {},
   "outputs": [],
   "source": [
    "df = pd.read_csv(r'C:\\Users\\aryan\\OneDrive\\Desktop\\Capstone Project\\Raw Data\\99acres_backup.csv')"
   ]
  },
  {
   "cell_type": "code",
   "execution_count": 5,
   "id": "c1ec62f6",
   "metadata": {},
   "outputs": [
    {
     "data": {
      "text/html": [
       "<div>\n",
       "<style scoped>\n",
       "    .dataframe tbody tr th:only-of-type {\n",
       "        vertical-align: middle;\n",
       "    }\n",
       "\n",
       "    .dataframe tbody tr th {\n",
       "        vertical-align: top;\n",
       "    }\n",
       "\n",
       "    .dataframe thead th {\n",
       "        text-align: right;\n",
       "    }\n",
       "</style>\n",
       "<table border=\"1\" class=\"dataframe\">\n",
       "  <thead>\n",
       "    <tr style=\"text-align: right;\">\n",
       "      <th></th>\n",
       "      <th>Mapsko Paradise\\n3.9</th>\n",
       "      <th>Mapsko Paradise\\nSector 83, Gurgaon</th>\n",
       "      <th>₹ 95 Lac+ Govt Charges &amp; Tax\\n@ 11,875 per sq.ft. (All inclusive, Negotiable) View Price Details</th>\n",
       "      <th>Super Built up area 1050\\n(97.55 sq.m.)\\nCarpet area: 800 sq.ft. (74.32 sq.m.)  \\nsq.ft.</th>\n",
       "      <th>2 Bedrooms , 2 Bathrooms, 3 Balconies with Study Room</th>\n",
       "      <th>8th   of 12 Floors</th>\n",
       "      <th>North</th>\n",
       "      <th>Main Road</th>\n",
       "      <th>1 to 5 Year Old</th>\n",
       "      <th>https://www.99acres.com/2-bhk-bedroom-apartment-flat-for-sale-in-mapsko-paradise-sector-83-gurgaon-1050-sq-ft-r5-spid-K77223679</th>\n",
       "      <th>['Millennium City Centre Gurugram\\nRaheja Mall\\nNH 48\\nVivekanand school\\nGurugram Univ Kankrola Sec 87\\nGenesis Hospital']</th>\n",
       "      <th>{'Transaction Type': ':, Resale', 'Property Ownership': ':, Freehold', 'Flooring': ':, Vitrified', 'Furnishing': ':, Semifurnished', 'Width of facing road': ':, 60.0 Feet', 'Gated Community': ':, Yes', 'Corner Property': ':, Yes', 'Parking': ':, 1 Covered', 'WheelChair Friendly': ':, Yes', 'Pet Friendly': ':, Yes', 'Water Source': ':, 24*7 Water,Municipal corporation,Borewell/Tank', 'Power Backup': ':, Full', 'Property Code': ':, K77223679'}</th>\n",
       "    </tr>\n",
       "  </thead>\n",
       "  <tbody>\n",
       "    <tr>\n",
       "      <th>0</th>\n",
       "      <td>Vipul Lavanya\\n3.6</td>\n",
       "      <td>Vipul Lavanya\\nSector 81, Gurgaon</td>\n",
       "      <td>₹ 1.05 Crore+ Govt Charges &amp; Tax\\n@ 8,400 per ...</td>\n",
       "      <td>Super Built up area 1250\\n(116.13 sq.m.)\\nCarp...</td>\n",
       "      <td>2 Bedrooms , 2 Bathrooms, 2 Balconies with Others</td>\n",
       "      <td>10th   of 14 Floors</td>\n",
       "      <td>East</td>\n",
       "      <td>Pool,Park/Garden,Club,Others</td>\n",
       "      <td>5 to 10 Year Old    View Construction Status</td>\n",
       "      <td>https://www.99acres.com/2-bhk-bedroom-apartmen...</td>\n",
       "      <td>['Millennium City Centre Gurugram\\nTown Square...</td>\n",
       "      <td>{'Transaction Type': ':, Resale', 'Property Ow...</td>\n",
       "    </tr>\n",
       "  </tbody>\n",
       "</table>\n",
       "</div>"
      ],
      "text/plain": [
       "  Mapsko Paradise\\n3.9 Mapsko Paradise\\nSector 83, Gurgaon  \\\n",
       "0   Vipul Lavanya\\n3.6   Vipul Lavanya\\nSector 81, Gurgaon   \n",
       "\n",
       "  ₹ 95 Lac+ Govt Charges & Tax\\n@ 11,875 per sq.ft. (All inclusive, Negotiable) View Price Details  \\\n",
       "0  ₹ 1.05 Crore+ Govt Charges & Tax\\n@ 8,400 per ...                                                 \n",
       "\n",
       "  Super Built up area 1050\\n(97.55 sq.m.)\\nCarpet area: 800 sq.ft. (74.32 sq.m.)  \\nsq.ft.  \\\n",
       "0  Super Built up area 1250\\n(116.13 sq.m.)\\nCarp...                                         \n",
       "\n",
       "  2 Bedrooms , 2 Bathrooms, 3 Balconies with Study Room   8th   of 12 Floors  \\\n",
       "0  2 Bedrooms , 2 Bathrooms, 2 Balconies with Others     10th   of 14 Floors   \n",
       "\n",
       "  North                     Main Road  \\\n",
       "0  East  Pool,Park/Garden,Club,Others   \n",
       "\n",
       "                                1 to 5 Year Old  \\\n",
       "0  5 to 10 Year Old    View Construction Status   \n",
       "\n",
       "  https://www.99acres.com/2-bhk-bedroom-apartment-flat-for-sale-in-mapsko-paradise-sector-83-gurgaon-1050-sq-ft-r5-spid-K77223679  \\\n",
       "0  https://www.99acres.com/2-bhk-bedroom-apartmen...                                                                                \n",
       "\n",
       "  ['Millennium City Centre Gurugram\\nRaheja Mall\\nNH 48\\nVivekanand school\\nGurugram Univ Kankrola Sec 87\\nGenesis Hospital']  \\\n",
       "0  ['Millennium City Centre Gurugram\\nTown Square...                                                                            \n",
       "\n",
       "  {'Transaction Type': ':, Resale', 'Property Ownership': ':, Freehold', 'Flooring': ':, Vitrified', 'Furnishing': ':, Semifurnished', 'Width of facing road': ':, 60.0 Feet', 'Gated Community': ':, Yes', 'Corner Property': ':, Yes', 'Parking': ':, 1 Covered', 'WheelChair Friendly': ':, Yes', 'Pet Friendly': ':, Yes', 'Water Source': ':, 24*7 Water,Municipal corporation,Borewell/Tank', 'Power Backup': ':, Full', 'Property Code': ':, K77223679'}  \n",
       "0  {'Transaction Type': ':, Resale', 'Property Ow...                                                                                                                                                                                                                                                                                                                                                                                                             "
      ]
     },
     "execution_count": 5,
     "metadata": {},
     "output_type": "execute_result"
    }
   ],
   "source": [
    "df.head(1)"
   ]
  },
  {
   "cell_type": "code",
   "execution_count": 6,
   "id": "d5e6ab8f",
   "metadata": {},
   "outputs": [
    {
     "data": {
      "text/plain": [
       "np.int64(2723)"
      ]
     },
     "execution_count": 6,
     "metadata": {},
     "output_type": "execute_result"
    }
   ],
   "source": [
    "df.duplicated().sum()"
   ]
  },
  {
   "cell_type": "code",
   "execution_count": 7,
   "id": "85ddc0d1",
   "metadata": {},
   "outputs": [],
   "source": [
    "column_names = [\n",
    "    \"Name\",\n",
    "    \"Address\",\n",
    "    \"Price\",\n",
    "    \"Area\",\n",
    "    \"Configuration\",\n",
    "    \"Floor\",\n",
    "    \"Facing\",\n",
    "    \"Overlooking\",\n",
    "    \"PropertyAge\",\n",
    "    \"URL\",\n",
    "    \"NearbyPlaces\",\n",
    "    \"details\"\n",
    "]\n",
    "\n",
    "df.columns = column_names"
   ]
  },
  {
   "cell_type": "code",
   "execution_count": 8,
   "id": "1c64c895",
   "metadata": {},
   "outputs": [
    {
     "data": {
      "text/html": [
       "<div>\n",
       "<style scoped>\n",
       "    .dataframe tbody tr th:only-of-type {\n",
       "        vertical-align: middle;\n",
       "    }\n",
       "\n",
       "    .dataframe tbody tr th {\n",
       "        vertical-align: top;\n",
       "    }\n",
       "\n",
       "    .dataframe thead th {\n",
       "        text-align: right;\n",
       "    }\n",
       "</style>\n",
       "<table border=\"1\" class=\"dataframe\">\n",
       "  <thead>\n",
       "    <tr style=\"text-align: right;\">\n",
       "      <th></th>\n",
       "      <th>Name</th>\n",
       "      <th>Address</th>\n",
       "      <th>Price</th>\n",
       "      <th>Area</th>\n",
       "      <th>Configuration</th>\n",
       "      <th>Floor</th>\n",
       "      <th>Facing</th>\n",
       "      <th>Overlooking</th>\n",
       "      <th>PropertyAge</th>\n",
       "      <th>URL</th>\n",
       "      <th>NearbyPlaces</th>\n",
       "      <th>details</th>\n",
       "    </tr>\n",
       "  </thead>\n",
       "  <tbody>\n",
       "    <tr>\n",
       "      <th>0</th>\n",
       "      <td>Vipul Lavanya\\n3.6</td>\n",
       "      <td>Vipul Lavanya\\nSector 81, Gurgaon</td>\n",
       "      <td>₹ 1.05 Crore+ Govt Charges &amp; Tax\\n@ 8,400 per ...</td>\n",
       "      <td>Super Built up area 1250\\n(116.13 sq.m.)\\nCarp...</td>\n",
       "      <td>2 Bedrooms , 2 Bathrooms, 2 Balconies with Others</td>\n",
       "      <td>10th   of 14 Floors</td>\n",
       "      <td>East</td>\n",
       "      <td>Pool,Park/Garden,Club,Others</td>\n",
       "      <td>5 to 10 Year Old    View Construction Status</td>\n",
       "      <td>https://www.99acres.com/2-bhk-bedroom-apartmen...</td>\n",
       "      <td>['Millennium City Centre Gurugram\\nTown Square...</td>\n",
       "      <td>{'Transaction Type': ':, Resale', 'Property Ow...</td>\n",
       "    </tr>\n",
       "  </tbody>\n",
       "</table>\n",
       "</div>"
      ],
      "text/plain": [
       "                 Name                            Address  \\\n",
       "0  Vipul Lavanya\\n3.6  Vipul Lavanya\\nSector 81, Gurgaon   \n",
       "\n",
       "                                               Price  \\\n",
       "0  ₹ 1.05 Crore+ Govt Charges & Tax\\n@ 8,400 per ...   \n",
       "\n",
       "                                                Area  \\\n",
       "0  Super Built up area 1250\\n(116.13 sq.m.)\\nCarp...   \n",
       "\n",
       "                                       Configuration                Floor  \\\n",
       "0  2 Bedrooms , 2 Bathrooms, 2 Balconies with Others  10th   of 14 Floors   \n",
       "\n",
       "  Facing                   Overlooking  \\\n",
       "0   East  Pool,Park/Garden,Club,Others   \n",
       "\n",
       "                                    PropertyAge  \\\n",
       "0  5 to 10 Year Old    View Construction Status   \n",
       "\n",
       "                                                 URL  \\\n",
       "0  https://www.99acres.com/2-bhk-bedroom-apartmen...   \n",
       "\n",
       "                                        NearbyPlaces  \\\n",
       "0  ['Millennium City Centre Gurugram\\nTown Square...   \n",
       "\n",
       "                                             details  \n",
       "0  {'Transaction Type': ':, Resale', 'Property Ow...  "
      ]
     },
     "execution_count": 8,
     "metadata": {},
     "output_type": "execute_result"
    }
   ],
   "source": [
    "df.head(1)"
   ]
  },
  {
   "cell_type": "code",
   "execution_count": 9,
   "id": "1eca8cf1",
   "metadata": {},
   "outputs": [],
   "source": [
    "df = df.drop_duplicates()"
   ]
  },
  {
   "cell_type": "code",
   "execution_count": 10,
   "id": "0508ccdc",
   "metadata": {},
   "outputs": [
    {
     "data": {
      "text/plain": [
       "(3345, 12)"
      ]
     },
     "execution_count": 10,
     "metadata": {},
     "output_type": "execute_result"
    }
   ],
   "source": [
    "df.shape"
   ]
  },
  {
   "cell_type": "code",
   "execution_count": 15,
   "id": "34555b9e",
   "metadata": {},
   "outputs": [],
   "source": [
    "df.to_csv(r'C:\\Users\\aryan\\OneDrive\\Desktop\\Capstone Project\\Raw Data\\raw_file.csv')"
   ]
  },
  {
   "cell_type": "code",
   "execution_count": 18,
   "id": "182b38b8",
   "metadata": {},
   "outputs": [],
   "source": [
    "df2 = pd.read_csv(r'C:\\Users\\aryan\\OneDrive\\Desktop\\Capstone Project\\Raw Data\\gurgaon_properties_cleaned_v1.csv')"
   ]
  },
  {
   "cell_type": "code",
   "execution_count": 19,
   "id": "07bf026b",
   "metadata": {},
   "outputs": [
    {
     "data": {
      "text/html": [
       "<div>\n",
       "<style scoped>\n",
       "    .dataframe tbody tr th:only-of-type {\n",
       "        vertical-align: middle;\n",
       "    }\n",
       "\n",
       "    .dataframe tbody tr th {\n",
       "        vertical-align: top;\n",
       "    }\n",
       "\n",
       "    .dataframe thead th {\n",
       "        text-align: right;\n",
       "    }\n",
       "</style>\n",
       "<table border=\"1\" class=\"dataframe\">\n",
       "  <thead>\n",
       "    <tr style=\"text-align: right;\">\n",
       "      <th></th>\n",
       "      <th>property_type</th>\n",
       "      <th>society</th>\n",
       "      <th>sector</th>\n",
       "      <th>price</th>\n",
       "      <th>price_per_sqft</th>\n",
       "      <th>area</th>\n",
       "      <th>areaWithType</th>\n",
       "      <th>bedRoom</th>\n",
       "      <th>bathroom</th>\n",
       "      <th>balcony</th>\n",
       "      <th>additionalRoom</th>\n",
       "      <th>floorNum</th>\n",
       "      <th>facing</th>\n",
       "      <th>agePossession</th>\n",
       "      <th>nearbyLocations</th>\n",
       "      <th>furnishDetails</th>\n",
       "      <th>features</th>\n",
       "    </tr>\n",
       "  </thead>\n",
       "  <tbody>\n",
       "    <tr>\n",
       "      <th>0</th>\n",
       "      <td>flat</td>\n",
       "      <td>signature global park 4</td>\n",
       "      <td>sector 36</td>\n",
       "      <td>0.82</td>\n",
       "      <td>7585.0</td>\n",
       "      <td>1081.0</td>\n",
       "      <td>Super Built up area 1081(100.43 sq.m.)Carpet a...</td>\n",
       "      <td>3</td>\n",
       "      <td>2</td>\n",
       "      <td>2</td>\n",
       "      <td>not available</td>\n",
       "      <td>2.0</td>\n",
       "      <td>NaN</td>\n",
       "      <td>0 to 1 Year Old</td>\n",
       "      <td>['Sector 55-56 Metro Station', 'The Leaf Mall ...</td>\n",
       "      <td>NaN</td>\n",
       "      <td>['Lift(s)', 'Park']</td>\n",
       "    </tr>\n",
       "  </tbody>\n",
       "</table>\n",
       "</div>"
      ],
      "text/plain": [
       "  property_type                  society     sector  price  price_per_sqft  \\\n",
       "0          flat  signature global park 4  sector 36   0.82          7585.0   \n",
       "\n",
       "     area                                       areaWithType  bedRoom  \\\n",
       "0  1081.0  Super Built up area 1081(100.43 sq.m.)Carpet a...        3   \n",
       "\n",
       "   bathroom balcony additionalRoom  floorNum facing    agePossession  \\\n",
       "0         2       2  not available       2.0    NaN  0 to 1 Year Old   \n",
       "\n",
       "                                     nearbyLocations furnishDetails  \\\n",
       "0  ['Sector 55-56 Metro Station', 'The Leaf Mall ...            NaN   \n",
       "\n",
       "              features  \n",
       "0  ['Lift(s)', 'Park']  "
      ]
     },
     "execution_count": 19,
     "metadata": {},
     "output_type": "execute_result"
    }
   ],
   "source": [
    "df2.head(1)"
   ]
  },
  {
   "cell_type": "code",
   "execution_count": 20,
   "id": "d8ebd85f",
   "metadata": {},
   "outputs": [],
   "source": [
    "df3 = pd.read_csv(r'C:\\Users\\aryan\\OneDrive\\Desktop\\Capstone Project\\Data Preprocessing New\\gurgaon_properties.csv')"
   ]
  },
  {
   "cell_type": "code",
   "execution_count": 21,
   "id": "1ad7ccb8",
   "metadata": {},
   "outputs": [
    {
     "data": {
      "text/html": [
       "<div>\n",
       "<style scoped>\n",
       "    .dataframe tbody tr th:only-of-type {\n",
       "        vertical-align: middle;\n",
       "    }\n",
       "\n",
       "    .dataframe tbody tr th {\n",
       "        vertical-align: top;\n",
       "    }\n",
       "\n",
       "    .dataframe thead th {\n",
       "        text-align: right;\n",
       "    }\n",
       "</style>\n",
       "<table border=\"1\" class=\"dataframe\">\n",
       "  <thead>\n",
       "    <tr style=\"text-align: right;\">\n",
       "      <th></th>\n",
       "      <th>Name</th>\n",
       "      <th>Address</th>\n",
       "      <th>Price</th>\n",
       "      <th>Area</th>\n",
       "      <th>Configuration</th>\n",
       "      <th>Floor</th>\n",
       "      <th>Facing</th>\n",
       "      <th>Overlooking</th>\n",
       "      <th>PropertyAge</th>\n",
       "      <th>URL</th>\n",
       "      <th>NearbyPlaces</th>\n",
       "      <th>details</th>\n",
       "    </tr>\n",
       "  </thead>\n",
       "  <tbody>\n",
       "    <tr>\n",
       "      <th>0</th>\n",
       "      <td>Vipul Lavanya\\n3.6</td>\n",
       "      <td>Vipul Lavanya\\nSector 81, Gurgaon</td>\n",
       "      <td>₹ 1.05 Crore+ Govt Charges &amp; Tax\\n@ 8,400 per ...</td>\n",
       "      <td>Super Built up area 1250\\n(116.13 sq.m.)\\nCarp...</td>\n",
       "      <td>2 Bedrooms , 2 Bathrooms, 2 Balconies with Others</td>\n",
       "      <td>10th   of 14 Floors</td>\n",
       "      <td>East</td>\n",
       "      <td>Pool,Park/Garden,Club,Others</td>\n",
       "      <td>5 to 10 Year Old    View Construction Status</td>\n",
       "      <td>https://www.99acres.com/2-bhk-bedroom-apartmen...</td>\n",
       "      <td>['Millennium City Centre Gurugram\\nTown Square...</td>\n",
       "      <td>{'Transaction Type': ':, Resale', 'Property Ow...</td>\n",
       "    </tr>\n",
       "  </tbody>\n",
       "</table>\n",
       "</div>"
      ],
      "text/plain": [
       "                 Name                            Address  \\\n",
       "0  Vipul Lavanya\\n3.6  Vipul Lavanya\\nSector 81, Gurgaon   \n",
       "\n",
       "                                               Price  \\\n",
       "0  ₹ 1.05 Crore+ Govt Charges & Tax\\n@ 8,400 per ...   \n",
       "\n",
       "                                                Area  \\\n",
       "0  Super Built up area 1250\\n(116.13 sq.m.)\\nCarp...   \n",
       "\n",
       "                                       Configuration                Floor  \\\n",
       "0  2 Bedrooms , 2 Bathrooms, 2 Balconies with Others  10th   of 14 Floors   \n",
       "\n",
       "  Facing                   Overlooking  \\\n",
       "0   East  Pool,Park/Garden,Club,Others   \n",
       "\n",
       "                                    PropertyAge  \\\n",
       "0  5 to 10 Year Old    View Construction Status   \n",
       "\n",
       "                                                 URL  \\\n",
       "0  https://www.99acres.com/2-bhk-bedroom-apartmen...   \n",
       "\n",
       "                                        NearbyPlaces  \\\n",
       "0  ['Millennium City Centre Gurugram\\nTown Square...   \n",
       "\n",
       "                                             details  \n",
       "0  {'Transaction Type': ':, Resale', 'Property Ow...  "
      ]
     },
     "execution_count": 21,
     "metadata": {},
     "output_type": "execute_result"
    }
   ],
   "source": [
    "df.head(1)"
   ]
  },
  {
   "cell_type": "code",
   "execution_count": 24,
   "id": "1298a32f",
   "metadata": {},
   "outputs": [
    {
     "data": {
      "text/plain": [
       "np.int64(3797)"
      ]
     },
     "execution_count": 24,
     "metadata": {},
     "output_type": "execute_result"
    }
   ],
   "source": [
    "df3.duplicated().sum()"
   ]
  },
  {
   "cell_type": "code",
   "execution_count": 27,
   "id": "86f578e3",
   "metadata": {},
   "outputs": [],
   "source": [
    "df3 = df3.drop_duplicates()"
   ]
  },
  {
   "cell_type": "code",
   "execution_count": 28,
   "id": "17c515c5",
   "metadata": {},
   "outputs": [],
   "source": [
    "df3.to_csv(r'C:\\Users\\aryan\\OneDrive\\Desktop\\Capstone Project\\Raw Data\\raw_file_2.csv')"
   ]
  },
  {
   "cell_type": "code",
   "execution_count": 61,
   "id": "bc1e8577",
   "metadata": {},
   "outputs": [],
   "source": [
    "df4 = pd.read_csv(r'C:\\Users\\aryan\\OneDrive\\Desktop\\Capstone Project\\Raw Data\\raw_file_1.csv')\n",
    "df5 = pd.read_csv(r'C:\\Users\\aryan\\OneDrive\\Desktop\\Capstone Project\\Raw Data\\raw_file_2.csv')"
   ]
  },
  {
   "cell_type": "code",
   "execution_count": 62,
   "id": "f4b30fca",
   "metadata": {},
   "outputs": [
    {
     "name": "stdout",
     "output_type": "stream",
     "text": [
      "Index(['Name', 'Address', 'Price', 'Area', 'Configuration', 'Floor', 'Facing',\n",
      "       'Overlooking', 'Property Age', 'URL', 'Nearby Places', 'details'],\n",
      "      dtype='object')\n",
      "Index(['Name', 'Address', 'Price', 'Area', 'Configuration', 'Floor', 'Facing',\n",
      "       'Overlooking', 'Property Age', 'URL', 'Nearby Places', 'details'],\n",
      "      dtype='object')\n"
     ]
    }
   ],
   "source": [
    "print(df4.columns)\n",
    "print(df5.columns)"
   ]
  },
  {
   "cell_type": "code",
   "execution_count": 63,
   "id": "a6758ace",
   "metadata": {},
   "outputs": [],
   "source": [
    "df5 = pd.concat([df4, df5], axis= 0)"
   ]
  },
  {
   "cell_type": "code",
   "execution_count": 64,
   "id": "61e22bc8",
   "metadata": {},
   "outputs": [
    {
     "data": {
      "text/plain": [
       "(9650, 12)"
      ]
     },
     "execution_count": 64,
     "metadata": {},
     "output_type": "execute_result"
    }
   ],
   "source": [
    "df5.shape"
   ]
  },
  {
   "cell_type": "code",
   "execution_count": 65,
   "id": "fd44347e",
   "metadata": {},
   "outputs": [
    {
     "data": {
      "text/plain": [
       "np.int64(0)"
      ]
     },
     "execution_count": 65,
     "metadata": {},
     "output_type": "execute_result"
    }
   ],
   "source": [
    "df5.duplicated().sum()"
   ]
  },
  {
   "cell_type": "code",
   "execution_count": 66,
   "id": "98731285",
   "metadata": {},
   "outputs": [
    {
     "data": {
      "text/plain": [
       "(3345, 12)"
      ]
     },
     "execution_count": 66,
     "metadata": {},
     "output_type": "execute_result"
    }
   ],
   "source": [
    "df4.shape"
   ]
  },
  {
   "cell_type": "code",
   "execution_count": 67,
   "id": "41377cdb",
   "metadata": {},
   "outputs": [
    {
     "data": {
      "text/plain": [
       "Index(['Name', 'Address', 'Price', 'Area', 'Configuration', 'Floor', 'Facing',\n",
       "       'Overlooking', 'Property Age', 'URL', 'Nearby Places', 'details'],\n",
       "      dtype='object')"
      ]
     },
     "execution_count": 67,
     "metadata": {},
     "output_type": "execute_result"
    }
   ],
   "source": [
    "df4.columns"
   ]
  },
  {
   "cell_type": "code",
   "execution_count": 68,
   "id": "797db3a1",
   "metadata": {},
   "outputs": [],
   "source": [
    "df5.to_csv(r'C:\\Users\\aryan\\OneDrive\\Desktop\\Capstone Project\\Data Preprocessing New\\uncleaned_gurgaon_properties.csv')"
   ]
  },
  {
   "cell_type": "code",
   "execution_count": null,
   "id": "62440cbd",
   "metadata": {},
   "outputs": [],
   "source": []
  }
 ],
 "metadata": {
  "kernelspec": {
   "display_name": ".venv",
   "language": "python",
   "name": "python3"
  },
  "language_info": {
   "codemirror_mode": {
    "name": "ipython",
    "version": 3
   },
   "file_extension": ".py",
   "mimetype": "text/x-python",
   "name": "python",
   "nbconvert_exporter": "python",
   "pygments_lexer": "ipython3",
   "version": "3.13.3"
  }
 },
 "nbformat": 4,
 "nbformat_minor": 5
}
