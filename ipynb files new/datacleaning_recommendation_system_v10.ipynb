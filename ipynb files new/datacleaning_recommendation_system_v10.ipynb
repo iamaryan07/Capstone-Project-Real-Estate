{
 "cells": [
  {
   "cell_type": "code",
   "execution_count": 1,
   "id": "7023a63c",
   "metadata": {},
   "outputs": [],
   "source": [
    "import pandas as pd\n",
    "import numpy as np"
   ]
  },
  {
   "cell_type": "code",
   "execution_count": 2,
   "id": "b58558cc",
   "metadata": {},
   "outputs": [],
   "source": [
    "df = pd.read_csv(r'C:\\Users\\aryan\\OneDrive\\Desktop\\Capstone Project\\Data Preprocessing New\\uncleaned_gurgaon_properties_v2.csv')"
   ]
  },
  {
   "cell_type": "code",
   "execution_count": 3,
   "id": "b4cc3918",
   "metadata": {},
   "outputs": [],
   "source": [
    "pd.set_option('display.max_colwidth', None)\n",
    "pd.set_option('display.max_columns', None)"
   ]
  },
  {
   "cell_type": "code",
   "execution_count": 4,
   "id": "f5bf3cb9",
   "metadata": {},
   "outputs": [
    {
     "data": {
      "text/html": [
       "<div>\n",
       "<style scoped>\n",
       "    .dataframe tbody tr th:only-of-type {\n",
       "        vertical-align: middle;\n",
       "    }\n",
       "\n",
       "    .dataframe tbody tr th {\n",
       "        vertical-align: top;\n",
       "    }\n",
       "\n",
       "    .dataframe thead th {\n",
       "        text-align: right;\n",
       "    }\n",
       "</style>\n",
       "<table border=\"1\" class=\"dataframe\">\n",
       "  <thead>\n",
       "    <tr style=\"text-align: right;\">\n",
       "      <th></th>\n",
       "      <th>Property Name</th>\n",
       "      <th>Sector</th>\n",
       "      <th>Price</th>\n",
       "      <th>Built Up Area</th>\n",
       "      <th>Bedroom</th>\n",
       "      <th>Bathroom</th>\n",
       "      <th>Balcony</th>\n",
       "      <th>Others</th>\n",
       "      <th>Pooja Room</th>\n",
       "      <th>Servant Room</th>\n",
       "      <th>Store Room</th>\n",
       "      <th>Study Room</th>\n",
       "      <th>Floor Num</th>\n",
       "      <th>Total Floor</th>\n",
       "      <th>Facing_North</th>\n",
       "      <th>Facing_North-East</th>\n",
       "      <th>Facing_North-West</th>\n",
       "      <th>Facing_South</th>\n",
       "      <th>Facing_South-East</th>\n",
       "      <th>Facing_South-West</th>\n",
       "      <th>Facing_Unknown</th>\n",
       "      <th>Facing_West</th>\n",
       "      <th>Property Age</th>\n",
       "      <th>details</th>\n",
       "      <th>Rating</th>\n",
       "      <th>URL</th>\n",
       "      <th>Overlooking_Club</th>\n",
       "      <th>Overlooking_Lake facing</th>\n",
       "      <th>Overlooking_Main Road</th>\n",
       "      <th>Overlooking_Others</th>\n",
       "      <th>Overlooking_Park</th>\n",
       "      <th>Overlooking_Pool</th>\n",
       "      <th>NearbyPlace_Business</th>\n",
       "      <th>NearbyPlace_Education</th>\n",
       "      <th>NearbyPlace_Financial</th>\n",
       "      <th>NearbyPlace_Healthcare</th>\n",
       "      <th>NearbyPlace_Leisure</th>\n",
       "      <th>NearbyPlace_Religious</th>\n",
       "      <th>NearbyPlace_Residentail</th>\n",
       "      <th>NearbyPlace_Shopping</th>\n",
       "      <th>NearbyPlace_Transport</th>\n",
       "    </tr>\n",
       "  </thead>\n",
       "  <tbody>\n",
       "    <tr>\n",
       "      <th>6394</th>\n",
       "      <td>Pivotal Devaan</td>\n",
       "      <td>Sector 84</td>\n",
       "      <td>0.58</td>\n",
       "      <td>539</td>\n",
       "      <td>2</td>\n",
       "      <td>2</td>\n",
       "      <td>1</td>\n",
       "      <td>0</td>\n",
       "      <td>0</td>\n",
       "      <td>0</td>\n",
       "      <td>0</td>\n",
       "      <td>0</td>\n",
       "      <td>7</td>\n",
       "      <td>14</td>\n",
       "      <td>0</td>\n",
       "      <td>1</td>\n",
       "      <td>0</td>\n",
       "      <td>0</td>\n",
       "      <td>0</td>\n",
       "      <td>0</td>\n",
       "      <td>0</td>\n",
       "      <td>0</td>\n",
       "      <td>2</td>\n",
       "      <td>Transaction Type: :, Resale | Property Ownership: :, Freehold | Flooring: :, Concrete | Furnishing: :, Semifurnished | Width of facing road: :, 78.7 Feet | Gated Community: :, Yes | Corner Property: :, Yes | Parking: :, 1 Covered | WheelChair Friendly: :, Yes | Pet Friendly: :, Yes | Water Source: :, 24*7 Water | Power Backup: :, Partial | Property Code: :, K80064255</td>\n",
       "      <td>NaN</td>\n",
       "      <td>https://www.99acres.com/2-bhk-bedroom-apartment-flat-for-sale-in-pivotal-devaan-sector-84-gurgaon-583-sq-ft-r1-spid-K80064255</td>\n",
       "      <td>0</td>\n",
       "      <td>0</td>\n",
       "      <td>1</td>\n",
       "      <td>0</td>\n",
       "      <td>0</td>\n",
       "      <td>0</td>\n",
       "      <td>0</td>\n",
       "      <td>1</td>\n",
       "      <td>0</td>\n",
       "      <td>0</td>\n",
       "      <td>0</td>\n",
       "      <td>0</td>\n",
       "      <td>0</td>\n",
       "      <td>0</td>\n",
       "      <td>1</td>\n",
       "    </tr>\n",
       "  </tbody>\n",
       "</table>\n",
       "</div>"
      ],
      "text/plain": [
       "       Property Name     Sector  Price  Built Up Area  Bedroom  Bathroom  \\\n",
       "6394  Pivotal Devaan  Sector 84   0.58            539        2         2   \n",
       "\n",
       "     Balcony  Others  Pooja Room  Servant Room  Store Room  Study Room  \\\n",
       "6394       1       0           0             0           0           0   \n",
       "\n",
       "      Floor Num  Total Floor  Facing_North  Facing_North-East  \\\n",
       "6394          7           14             0                  1   \n",
       "\n",
       "      Facing_North-West  Facing_South  Facing_South-East  Facing_South-West  \\\n",
       "6394                  0             0                  0                  0   \n",
       "\n",
       "      Facing_Unknown  Facing_West  Property Age  \\\n",
       "6394               0            0             2   \n",
       "\n",
       "                                                                                                                                                                                                                                                                                                                                                                                details  \\\n",
       "6394  Transaction Type: :, Resale | Property Ownership: :, Freehold | Flooring: :, Concrete | Furnishing: :, Semifurnished | Width of facing road: :, 78.7 Feet | Gated Community: :, Yes | Corner Property: :, Yes | Parking: :, 1 Covered | WheelChair Friendly: :, Yes | Pet Friendly: :, Yes | Water Source: :, 24*7 Water | Power Backup: :, Partial | Property Code: :, K80064255   \n",
       "\n",
       "      Rating  \\\n",
       "6394     NaN   \n",
       "\n",
       "                                                                                                                                URL  \\\n",
       "6394  https://www.99acres.com/2-bhk-bedroom-apartment-flat-for-sale-in-pivotal-devaan-sector-84-gurgaon-583-sq-ft-r1-spid-K80064255   \n",
       "\n",
       "      Overlooking_Club  Overlooking_Lake facing  Overlooking_Main Road  \\\n",
       "6394                 0                        0                      1   \n",
       "\n",
       "      Overlooking_Others  Overlooking_Park  Overlooking_Pool  \\\n",
       "6394                   0                 0                 0   \n",
       "\n",
       "      NearbyPlace_Business  NearbyPlace_Education  NearbyPlace_Financial  \\\n",
       "6394                     0                      1                      0   \n",
       "\n",
       "      NearbyPlace_Healthcare  NearbyPlace_Leisure  NearbyPlace_Religious  \\\n",
       "6394                       0                    0                      0   \n",
       "\n",
       "      NearbyPlace_Residentail  NearbyPlace_Shopping  NearbyPlace_Transport  \n",
       "6394                        0                     0                      1  "
      ]
     },
     "execution_count": 4,
     "metadata": {},
     "output_type": "execute_result"
    }
   ],
   "source": [
    "df.sample(1)"
   ]
  },
  {
   "cell_type": "code",
   "execution_count": 5,
   "id": "d612976f",
   "metadata": {},
   "outputs": [],
   "source": [
    "x = df['details'].sample(1)"
   ]
  },
  {
   "cell_type": "code",
   "execution_count": 6,
   "id": "b589fd5d",
   "metadata": {},
   "outputs": [
    {
     "data": {
      "text/plain": [
       "\"{'Property Ownership': ':, Freehold', 'Flooring': ':, Marble', 'Furnishing': ':, Semifurnished', 'Gated Community': ':, Yes', 'Corner Property': ':, Yes', 'Parking': ':, 2 Covered', 'WheelChair Friendly': ':, Yes', 'Pet Friendly': ':, Yes', 'Water Source': ':, Municipal corporation,Borewell/Tank,24*7 Water', 'Power Backup': ':, Full', 'Property Code': ':, P82343642'}\""
      ]
     },
     "execution_count": 6,
     "metadata": {},
     "output_type": "execute_result"
    }
   ],
   "source": [
    "x.iloc[0]"
   ]
  },
  {
   "cell_type": "code",
   "execution_count": 7,
   "id": "56cd4ac1",
   "metadata": {},
   "outputs": [
    {
     "data": {
      "text/plain": [
       "details\n",
       "{'Transaction Type': ':, Resale', 'Property Ownership': ':, Freehold', 'Flooring': ':, Wood', 'Furnishing': ':, Semifurnished', 'Width of facing road': ':, 52.5 Feet', 'Gated Community': ':, Yes', 'Corner Property': ':, Yes', 'Parking': ':, 2 Covered, 3 Open', 'WheelChair Friendly': ':, Yes', 'Pet Friendly': ':, Yes', 'Water Source': ':, 24*7 Water', 'Power Backup': ':, Full', 'Property Code': ':, S83638806'}    2\n",
       "{'Transaction Type': ':, Resale', 'Property Ownership': ':, Freehold', 'Flooring': ':, Wood', 'Furnishing': ':, Semifurnished', 'Width of facing road': ':, 52.5 Feet', 'Gated Community': ':, Yes', 'Corner Property': ':, Yes', 'Parking': ':, 2 Covered, 3 Open', 'WheelChair Friendly': ':, Yes', 'Pet Friendly': ':, Yes', 'Water Source': ':, 24*7 Water', 'Power Backup': ':, Full', 'Property Code': ':, E83637500'}    2\n",
       "{'Property Ownership': ':, Freehold', 'Flooring': ':, Marble', 'Furnishing': ':, Semifurnished', 'Width of facing road': ':, 25.0 Feet', 'Gated Community': ':, Yes', 'Parking': ':, 2 Covered, 1 Open', 'WheelChair Friendly': ':, Yes', 'Pet Friendly': ':, Yes', 'Water Source': ':, Municipal corporation,Borewell/Tank', 'Power Backup': ':, Full', 'Property Code': ':, R83252150'}                                       2\n",
       "Transaction Type: :, Resale | Property Ownership: :, Freehold | Flooring: :, Marble | Furnishing: :, Semifurnished | Width of facing road: :, 246.1 Feet | Gated Community: :, Yes | Corner Property: :, Yes | Parking: :, 1 Covered, 1 Open | WheelChair Friendly: :, Yes | Pet Friendly: :, Yes | Water Source: :, Municipal corporation,Borewell/Tank,24*7 Water | Power Backup: :, Full | Property Code: :, Q81762850       2\n",
       "Transaction Type: :, Resale | Property Ownership: :, Freehold | Flooring: :, Marble | Furnishing: :, Semifurnished | Width of facing road: :, 59.1 Feet | Gated Community: :, Yes | Parking: :, 2 Covered, 1 Open | Water Source: :, Municipal corporation,Borewell/Tank | Power Backup: :, Full | Property Code: :, Q79624887                                                                                                  2\n",
       "                                                                                                                                                                                                                                                                                                                                                                                                                               ..\n",
       "Transaction Type: :, Resale | Property Ownership: :, Freehold | Flooring: :, Marble | Furnishing: :, Semifurnished | Width of facing road: :, 18.0 Feet | Gated Community: :, Yes | Corner Property: :, Yes | Parking: :, 2 Covered | WheelChair Friendly: :, Yes | Pet Friendly: :, Yes | Water Source: :, Municipal corporation,24*7 Water | Power Backup: :, Full | Property Code: :, D82520480                              1\n",
       "Transaction Type: :, Resale | Property Ownership: :, Freehold | Furnishing: :, Semifurnished | Parking: :, 1 Covered, 1 Open | Water Source: :, 24*7 Water | Power Backup: :, None | Property Code: :, N82531212                                                                                                                                                                                                                1\n",
       "Transaction Type: :, Resale | Property Ownership: :, Freehold | Flooring: :, Marble | Furnishing: :, Unfurnished | Width of facing road: :, 29.5 Feet | Gated Community: :, Yes | Parking: :, 1 Covered, 1 Open | Water Source: :, 24*7 Water,Borewell/Tank | Power Backup: :, Full | Property Code: :, T83100900                                                                                                               1\n",
       "Transaction Type: :, Resale | Property Ownership: :, Freehold | Flooring: :, Wood | Furnishing: :, Unfurnished | Width of facing road: :, 131.2 Feet | Gated Community: :, Yes | Corner Property: :, Yes | Parking: :, 1 Covered | WheelChair Friendly: :, Yes | Pet Friendly: :, Yes | Water Source: :, Municipal corporation,Borewell/Tank,24*7 Water | Power Backup: :, Full | Property Code: :, G82660682                   1\n",
       "Transaction Type: :, Resale | Property Ownership: :, Freehold | Flooring: :, Marble | Furnishing: :, Semifurnished | Gated Community: :, Yes | Corner Property: :, Yes | Parking: :, 2 Covered | WheelChair Friendly: :, Yes | Pet Friendly: :, Yes | Water Source: :, 24*7 Water | Power Backup: :, Full | Property Code: :, U78547489                                                                                         1\n",
       "Name: count, Length: 9596, dtype: int64"
      ]
     },
     "execution_count": 7,
     "metadata": {},
     "output_type": "execute_result"
    }
   ],
   "source": [
    "df['details'].value_counts()"
   ]
  },
  {
   "cell_type": "code",
   "execution_count": 8,
   "id": "0a82e5c7",
   "metadata": {},
   "outputs": [
    {
     "data": {
      "text/plain": [
       "41"
      ]
     },
     "execution_count": 8,
     "metadata": {},
     "output_type": "execute_result"
    }
   ],
   "source": [
    "len(df.columns)"
   ]
  },
  {
   "cell_type": "code",
   "execution_count": 9,
   "id": "c130234e",
   "metadata": {},
   "outputs": [],
   "source": [
    "import ast # Needed to safely evaluate the dictionary-like string\n",
    "\n",
    "def parse_any_detail_format(detail_data):\n",
    "    \"\"\"\n",
    "    Handles both pipe-separated strings AND dictionary-like strings.\n",
    "    \"\"\"\n",
    "    features_to_keep = {\n",
    "        'Furnishing', \n",
    "        'Gated Community', \n",
    "        'Parking', \n",
    "        'Power Backup', \n",
    "        'Property Ownership'\n",
    "    }\n",
    "    \n",
    "    final_dict = {}\n",
    "    \n",
    "    # Handle missing values first\n",
    "    if not isinstance(detail_data, str):\n",
    "        return {}\n",
    "\n",
    "    cleaned_str = detail_data.strip()\n",
    "    \n",
    "    # --- LOGIC FOR DICTIONARY-LIKE STRING ---\n",
    "    if cleaned_str.startswith('{'):\n",
    "        try:\n",
    "            # Safely convert the string to a dictionary\n",
    "            temp_dict = ast.literal_eval(cleaned_str)\n",
    "            for key, value in temp_dict.items():\n",
    "                if key in features_to_keep:\n",
    "                    cleaned_value = str(value).replace(':,', '').strip()\n",
    "                    final_dict[key] = cleaned_value\n",
    "            return final_dict\n",
    "        except Exception:\n",
    "            return {} # Return empty if conversion fails\n",
    "\n",
    "    # --- LOGIC FOR PIPE-SEPARATED STRING ---\n",
    "    else:\n",
    "        pairs = cleaned_str.split('|')\n",
    "        for pair in pairs:\n",
    "            parts = pair.split(':', 1)\n",
    "            if len(parts) == 2:\n",
    "                key = parts[0].strip()\n",
    "                if key in features_to_keep:\n",
    "                    value = parts[1].replace(':,', '').strip()\n",
    "                    final_dict[key] = value\n",
    "        return final_dict"
   ]
  },
  {
   "cell_type": "code",
   "execution_count": 10,
   "id": "b72be778",
   "metadata": {},
   "outputs": [],
   "source": [
    "details_series = df['details'].apply(parse_any_detail_format)\n",
    "extracted_details_df = pd.json_normalize(details_series)\n",
    "df = pd.concat([df, extracted_details_df], axis=1)"
   ]
  },
  {
   "cell_type": "code",
   "execution_count": 11,
   "id": "2e3fd203",
   "metadata": {},
   "outputs": [
    {
     "data": {
      "text/plain": [
       "Property Ownership     20\n",
       "Furnishing            310\n",
       "Gated Community       916\n",
       "Power Backup            0\n",
       "Parking               621\n",
       "dtype: int64"
      ]
     },
     "execution_count": 11,
     "metadata": {},
     "output_type": "execute_result"
    }
   ],
   "source": [
    "df[['Property Ownership', 'Furnishing', 'Gated Community', 'Power Backup', 'Parking']].isnull().sum()"
   ]
  },
  {
   "cell_type": "code",
   "execution_count": 12,
   "id": "59b9f933",
   "metadata": {},
   "outputs": [
    {
     "data": {
      "text/html": [
       "<div>\n",
       "<style scoped>\n",
       "    .dataframe tbody tr th:only-of-type {\n",
       "        vertical-align: middle;\n",
       "    }\n",
       "\n",
       "    .dataframe tbody tr th {\n",
       "        vertical-align: top;\n",
       "    }\n",
       "\n",
       "    .dataframe thead th {\n",
       "        text-align: right;\n",
       "    }\n",
       "</style>\n",
       "<table border=\"1\" class=\"dataframe\">\n",
       "  <thead>\n",
       "    <tr style=\"text-align: right;\">\n",
       "      <th></th>\n",
       "      <th>Property Name</th>\n",
       "      <th>Sector</th>\n",
       "      <th>Price</th>\n",
       "      <th>Built Up Area</th>\n",
       "      <th>Bedroom</th>\n",
       "      <th>Bathroom</th>\n",
       "      <th>Balcony</th>\n",
       "      <th>Others</th>\n",
       "      <th>Pooja Room</th>\n",
       "      <th>Servant Room</th>\n",
       "      <th>Store Room</th>\n",
       "      <th>Study Room</th>\n",
       "      <th>Floor Num</th>\n",
       "      <th>Total Floor</th>\n",
       "      <th>Facing_North</th>\n",
       "      <th>Facing_North-East</th>\n",
       "      <th>Facing_North-West</th>\n",
       "      <th>Facing_South</th>\n",
       "      <th>Facing_South-East</th>\n",
       "      <th>Facing_South-West</th>\n",
       "      <th>Facing_Unknown</th>\n",
       "      <th>Facing_West</th>\n",
       "      <th>Property Age</th>\n",
       "      <th>details</th>\n",
       "      <th>Rating</th>\n",
       "      <th>URL</th>\n",
       "      <th>Overlooking_Club</th>\n",
       "      <th>Overlooking_Lake facing</th>\n",
       "      <th>Overlooking_Main Road</th>\n",
       "      <th>Overlooking_Others</th>\n",
       "      <th>Overlooking_Park</th>\n",
       "      <th>Overlooking_Pool</th>\n",
       "      <th>NearbyPlace_Business</th>\n",
       "      <th>NearbyPlace_Education</th>\n",
       "      <th>NearbyPlace_Financial</th>\n",
       "      <th>NearbyPlace_Healthcare</th>\n",
       "      <th>NearbyPlace_Leisure</th>\n",
       "      <th>NearbyPlace_Religious</th>\n",
       "      <th>NearbyPlace_Residentail</th>\n",
       "      <th>NearbyPlace_Shopping</th>\n",
       "      <th>NearbyPlace_Transport</th>\n",
       "      <th>Property Ownership</th>\n",
       "      <th>Furnishing</th>\n",
       "      <th>Gated Community</th>\n",
       "      <th>Power Backup</th>\n",
       "      <th>Parking</th>\n",
       "    </tr>\n",
       "  </thead>\n",
       "  <tbody>\n",
       "    <tr>\n",
       "      <th>7301</th>\n",
       "      <td>Suncity Avenue 76</td>\n",
       "      <td>Sector 76</td>\n",
       "      <td>0.96</td>\n",
       "      <td>996</td>\n",
       "      <td>2</td>\n",
       "      <td>2</td>\n",
       "      <td>1</td>\n",
       "      <td>1</td>\n",
       "      <td>0</td>\n",
       "      <td>0</td>\n",
       "      <td>0</td>\n",
       "      <td>0</td>\n",
       "      <td>8</td>\n",
       "      <td>14</td>\n",
       "      <td>0</td>\n",
       "      <td>0</td>\n",
       "      <td>1</td>\n",
       "      <td>0</td>\n",
       "      <td>0</td>\n",
       "      <td>0</td>\n",
       "      <td>0</td>\n",
       "      <td>0</td>\n",
       "      <td>2</td>\n",
       "      <td>Transaction Type: :, Resale | Property Ownership: :, Freehold | Flooring: :, Marble | Furnishing: :, Furnished | Width of facing road: :, 78.7 Feet | Gated Community: :, Yes | Corner Property: :, Yes | Parking: :, 1 Open | WheelChair Friendly: :, Yes | Pet Friendly: :, Yes | Water Source: :, Municipal corporation,Borewell/Tank,24*7 Water | Power Backup: :, Partial | Property Code: :, R82778730</td>\n",
       "      <td>3.8</td>\n",
       "      <td>https://www.99acres.com/2-bhk-bedroom-apartment-flat-for-sale-in-suncity-avenue-76-sector-76-gurgaon-1075-sq-ft-spid-R82778730</td>\n",
       "      <td>0</td>\n",
       "      <td>1</td>\n",
       "      <td>1</td>\n",
       "      <td>1</td>\n",
       "      <td>1</td>\n",
       "      <td>0</td>\n",
       "      <td>0</td>\n",
       "      <td>1</td>\n",
       "      <td>0</td>\n",
       "      <td>1</td>\n",
       "      <td>0</td>\n",
       "      <td>0</td>\n",
       "      <td>0</td>\n",
       "      <td>1</td>\n",
       "      <td>1</td>\n",
       "      <td>Freehold</td>\n",
       "      <td>Furnished</td>\n",
       "      <td>Yes</td>\n",
       "      <td>Partial</td>\n",
       "      <td>1 Open</td>\n",
       "    </tr>\n",
       "  </tbody>\n",
       "</table>\n",
       "</div>"
      ],
      "text/plain": [
       "          Property Name     Sector  Price  Built Up Area  Bedroom  Bathroom  \\\n",
       "7301  Suncity Avenue 76  Sector 76   0.96            996        2         2   \n",
       "\n",
       "     Balcony  Others  Pooja Room  Servant Room  Store Room  Study Room  \\\n",
       "7301       1       1           0             0           0           0   \n",
       "\n",
       "      Floor Num  Total Floor  Facing_North  Facing_North-East  \\\n",
       "7301          8           14             0                  0   \n",
       "\n",
       "      Facing_North-West  Facing_South  Facing_South-East  Facing_South-West  \\\n",
       "7301                  1             0                  0                  0   \n",
       "\n",
       "      Facing_Unknown  Facing_West  Property Age  \\\n",
       "7301               0            0             2   \n",
       "\n",
       "                                                                                                                                                                                                                                                                                                                                                                                                           details  \\\n",
       "7301  Transaction Type: :, Resale | Property Ownership: :, Freehold | Flooring: :, Marble | Furnishing: :, Furnished | Width of facing road: :, 78.7 Feet | Gated Community: :, Yes | Corner Property: :, Yes | Parking: :, 1 Open | WheelChair Friendly: :, Yes | Pet Friendly: :, Yes | Water Source: :, Municipal corporation,Borewell/Tank,24*7 Water | Power Backup: :, Partial | Property Code: :, R82778730   \n",
       "\n",
       "      Rating  \\\n",
       "7301     3.8   \n",
       "\n",
       "                                                                                                                                 URL  \\\n",
       "7301  https://www.99acres.com/2-bhk-bedroom-apartment-flat-for-sale-in-suncity-avenue-76-sector-76-gurgaon-1075-sq-ft-spid-R82778730   \n",
       "\n",
       "      Overlooking_Club  Overlooking_Lake facing  Overlooking_Main Road  \\\n",
       "7301                 0                        1                      1   \n",
       "\n",
       "      Overlooking_Others  Overlooking_Park  Overlooking_Pool  \\\n",
       "7301                   1                 1                 0   \n",
       "\n",
       "      NearbyPlace_Business  NearbyPlace_Education  NearbyPlace_Financial  \\\n",
       "7301                     0                      1                      0   \n",
       "\n",
       "      NearbyPlace_Healthcare  NearbyPlace_Leisure  NearbyPlace_Religious  \\\n",
       "7301                       1                    0                      0   \n",
       "\n",
       "      NearbyPlace_Residentail  NearbyPlace_Shopping  NearbyPlace_Transport  \\\n",
       "7301                        0                     1                      1   \n",
       "\n",
       "     Property Ownership Furnishing Gated Community Power Backup Parking  \n",
       "7301           Freehold  Furnished             Yes      Partial  1 Open  "
      ]
     },
     "execution_count": 12,
     "metadata": {},
     "output_type": "execute_result"
    }
   ],
   "source": [
    "df.sample(1)"
   ]
  },
  {
   "cell_type": "code",
   "execution_count": 13,
   "id": "f2896784",
   "metadata": {},
   "outputs": [
    {
     "data": {
      "text/plain": [
       "Power Backup\n",
       "Full       7242\n",
       "None       1420\n",
       "Partial     974\n",
       "Name: count, dtype: int64"
      ]
     },
     "execution_count": 13,
     "metadata": {},
     "output_type": "execute_result"
    }
   ],
   "source": [
    "df['Power Backup'].value_counts()"
   ]
  },
  {
   "cell_type": "code",
   "execution_count": 14,
   "id": "014483d1",
   "metadata": {},
   "outputs": [
    {
     "data": {
      "text/plain": [
       "Parking\n",
       "1 Covered             2845\n",
       "1 Covered, 1 Open     2119\n",
       "2 Covered             1665\n",
       "2 Covered, 1 Open      863\n",
       "1 Open                 802\n",
       "2 Covered, 2 Open      278\n",
       "2 Open                 143\n",
       "3 Covered, 1 Open       78\n",
       "3 Covered               61\n",
       "1 Covered, 2 Open       60\n",
       "3 Covered, 2 Open       20\n",
       "2 Covered, 3 Open       11\n",
       "4 Covered, 2 Open       10\n",
       "Covered, 1 Open          8\n",
       "3 Open                   6\n",
       "4 Covered                5\n",
       "3 Covered, 3 Open        5\n",
       "1 Covered, Open          5\n",
       "1 Covered, 4 Open        4\n",
       "3 Covered, 4 Open        3\n",
       "4 Covered, 4 Open        3\n",
       "2 Covered, 0 Open        3\n",
       "2 Covered, Open          2\n",
       "0 Covered, 1 Open        2\n",
       "4 Covered, 1 Open        1\n",
       "1 Covered, 6 Open        1\n",
       "16 Covered, 8 Open       1\n",
       "2 Covered, 7 Open        1\n",
       "1 Covered, 0 Open        1\n",
       "Covered, Open            1\n",
       "0 Covered, 0 Open        1\n",
       "5 Open                   1\n",
       "2 Covered, 4 Open        1\n",
       "4 Open                   1\n",
       "6 Covered, 3 Open        1\n",
       "5 Covered                1\n",
       "1 Covered, 3 Open        1\n",
       "4 Covered, 3 Open        1\n",
       "Name: count, dtype: int64"
      ]
     },
     "execution_count": 14,
     "metadata": {},
     "output_type": "execute_result"
    }
   ],
   "source": [
    "df['Parking'].value_counts()"
   ]
  },
  {
   "cell_type": "code",
   "execution_count": 15,
   "id": "f0a58cec",
   "metadata": {},
   "outputs": [
    {
     "data": {
      "text/plain": [
       "Gated Community\n",
       "Yes    8720\n",
       "Name: count, dtype: int64"
      ]
     },
     "execution_count": 15,
     "metadata": {},
     "output_type": "execute_result"
    }
   ],
   "source": [
    "df['Gated Community'].value_counts()"
   ]
  },
  {
   "cell_type": "code",
   "execution_count": 16,
   "id": "0d33b04d",
   "metadata": {},
   "outputs": [
    {
     "data": {
      "text/plain": [
       "Furnishing\n",
       "Semifurnished    7128\n",
       "Unfurnished      1586\n",
       "Furnished         612\n",
       "Name: count, dtype: int64"
      ]
     },
     "execution_count": 16,
     "metadata": {},
     "output_type": "execute_result"
    }
   ],
   "source": [
    "df['Furnishing'].value_counts()"
   ]
  },
  {
   "cell_type": "code",
   "execution_count": 17,
   "id": "231f0595",
   "metadata": {},
   "outputs": [
    {
     "data": {
      "text/plain": [
       "Property Ownership\n",
       "Freehold                9453\n",
       "Leasehold                 84\n",
       "Co-operative Society      46\n",
       "Power of Attorney         33\n",
       "Name: count, dtype: int64"
      ]
     },
     "execution_count": 17,
     "metadata": {},
     "output_type": "execute_result"
    }
   ],
   "source": [
    "df['Property Ownership'].value_counts()"
   ]
  },
  {
   "cell_type": "code",
   "execution_count": 18,
   "id": "a30fe737",
   "metadata": {},
   "outputs": [
    {
     "data": {
      "text/html": [
       "<div>\n",
       "<style scoped>\n",
       "    .dataframe tbody tr th:only-of-type {\n",
       "        vertical-align: middle;\n",
       "    }\n",
       "\n",
       "    .dataframe tbody tr th {\n",
       "        vertical-align: top;\n",
       "    }\n",
       "\n",
       "    .dataframe thead th {\n",
       "        text-align: right;\n",
       "    }\n",
       "</style>\n",
       "<table border=\"1\" class=\"dataframe\">\n",
       "  <thead>\n",
       "    <tr style=\"text-align: right;\">\n",
       "      <th></th>\n",
       "      <th>Property Name</th>\n",
       "      <th>Sector</th>\n",
       "      <th>Price</th>\n",
       "      <th>Built Up Area</th>\n",
       "      <th>Bedroom</th>\n",
       "      <th>Bathroom</th>\n",
       "      <th>Balcony</th>\n",
       "      <th>Others</th>\n",
       "      <th>Pooja Room</th>\n",
       "      <th>Servant Room</th>\n",
       "      <th>Store Room</th>\n",
       "      <th>Study Room</th>\n",
       "      <th>Floor Num</th>\n",
       "      <th>Total Floor</th>\n",
       "      <th>Facing_North</th>\n",
       "      <th>Facing_North-East</th>\n",
       "      <th>Facing_North-West</th>\n",
       "      <th>Facing_South</th>\n",
       "      <th>Facing_South-East</th>\n",
       "      <th>Facing_South-West</th>\n",
       "      <th>Facing_Unknown</th>\n",
       "      <th>Facing_West</th>\n",
       "      <th>Property Age</th>\n",
       "      <th>details</th>\n",
       "      <th>Rating</th>\n",
       "      <th>URL</th>\n",
       "      <th>Overlooking_Club</th>\n",
       "      <th>Overlooking_Lake facing</th>\n",
       "      <th>Overlooking_Main Road</th>\n",
       "      <th>Overlooking_Others</th>\n",
       "      <th>Overlooking_Park</th>\n",
       "      <th>Overlooking_Pool</th>\n",
       "      <th>NearbyPlace_Business</th>\n",
       "      <th>NearbyPlace_Education</th>\n",
       "      <th>NearbyPlace_Financial</th>\n",
       "      <th>NearbyPlace_Healthcare</th>\n",
       "      <th>NearbyPlace_Leisure</th>\n",
       "      <th>NearbyPlace_Religious</th>\n",
       "      <th>NearbyPlace_Residentail</th>\n",
       "      <th>NearbyPlace_Shopping</th>\n",
       "      <th>NearbyPlace_Transport</th>\n",
       "      <th>Property Ownership</th>\n",
       "      <th>Furnishing</th>\n",
       "      <th>Gated Community</th>\n",
       "      <th>Power Backup</th>\n",
       "      <th>Parking</th>\n",
       "    </tr>\n",
       "  </thead>\n",
       "  <tbody>\n",
       "    <tr>\n",
       "      <th>3950</th>\n",
       "      <td>Pareena Express Heights</td>\n",
       "      <td>Sector 99</td>\n",
       "      <td>1.82</td>\n",
       "      <td>1727</td>\n",
       "      <td>3</td>\n",
       "      <td>3</td>\n",
       "      <td>2</td>\n",
       "      <td>0</td>\n",
       "      <td>0</td>\n",
       "      <td>0</td>\n",
       "      <td>0</td>\n",
       "      <td>0</td>\n",
       "      <td>7</td>\n",
       "      <td>14</td>\n",
       "      <td>1</td>\n",
       "      <td>0</td>\n",
       "      <td>0</td>\n",
       "      <td>0</td>\n",
       "      <td>0</td>\n",
       "      <td>0</td>\n",
       "      <td>0</td>\n",
       "      <td>0</td>\n",
       "      <td>2</td>\n",
       "      <td>Transaction Type: :, Resale | Property Ownership: :, Freehold | Flooring: :, Granite | Furnishing: :, Semifurnished | Width of facing road: :, 492.1 Feet | Gated Community: :, Yes | Corner Property: :, Yes | Parking: :, 1 Covered, 1 Open | WheelChair Friendly: :, Yes | Pet Friendly: :, Yes | Water Source: :, Municipal corporation,Borewell/Tank,24*7 Water | Power Backup: :, Partial | Property Code: :, Q82363484</td>\n",
       "      <td>4.1</td>\n",
       "      <td>https://www.99acres.com/3-bhk-bedroom-apartment-flat-for-sale-in-pareena-express-heights-sector-99-gurgaon-1865-sq-ft-spid-Q82363484</td>\n",
       "      <td>1</td>\n",
       "      <td>0</td>\n",
       "      <td>1</td>\n",
       "      <td>0</td>\n",
       "      <td>1</td>\n",
       "      <td>1</td>\n",
       "      <td>0</td>\n",
       "      <td>1</td>\n",
       "      <td>0</td>\n",
       "      <td>0</td>\n",
       "      <td>0</td>\n",
       "      <td>0</td>\n",
       "      <td>0</td>\n",
       "      <td>1</td>\n",
       "      <td>1</td>\n",
       "      <td>Freehold</td>\n",
       "      <td>Semifurnished</td>\n",
       "      <td>Yes</td>\n",
       "      <td>Partial</td>\n",
       "      <td>1 Covered, 1 Open</td>\n",
       "    </tr>\n",
       "  </tbody>\n",
       "</table>\n",
       "</div>"
      ],
      "text/plain": [
       "                Property Name     Sector  Price  Built Up Area  Bedroom  \\\n",
       "3950  Pareena Express Heights  Sector 99   1.82           1727        3   \n",
       "\n",
       "      Bathroom Balcony  Others  Pooja Room  Servant Room  Store Room  \\\n",
       "3950         3       2       0           0             0           0   \n",
       "\n",
       "      Study Room  Floor Num  Total Floor  Facing_North  Facing_North-East  \\\n",
       "3950           0          7           14             1                  0   \n",
       "\n",
       "      Facing_North-West  Facing_South  Facing_South-East  Facing_South-West  \\\n",
       "3950                  0             0                  0                  0   \n",
       "\n",
       "      Facing_Unknown  Facing_West  Property Age  \\\n",
       "3950               0            0             2   \n",
       "\n",
       "                                                                                                                                                                                                                                                                                                                                                                                                                            details  \\\n",
       "3950  Transaction Type: :, Resale | Property Ownership: :, Freehold | Flooring: :, Granite | Furnishing: :, Semifurnished | Width of facing road: :, 492.1 Feet | Gated Community: :, Yes | Corner Property: :, Yes | Parking: :, 1 Covered, 1 Open | WheelChair Friendly: :, Yes | Pet Friendly: :, Yes | Water Source: :, Municipal corporation,Borewell/Tank,24*7 Water | Power Backup: :, Partial | Property Code: :, Q82363484   \n",
       "\n",
       "      Rating  \\\n",
       "3950     4.1   \n",
       "\n",
       "                                                                                                                                       URL  \\\n",
       "3950  https://www.99acres.com/3-bhk-bedroom-apartment-flat-for-sale-in-pareena-express-heights-sector-99-gurgaon-1865-sq-ft-spid-Q82363484   \n",
       "\n",
       "      Overlooking_Club  Overlooking_Lake facing  Overlooking_Main Road  \\\n",
       "3950                 1                        0                      1   \n",
       "\n",
       "      Overlooking_Others  Overlooking_Park  Overlooking_Pool  \\\n",
       "3950                   0                 1                 1   \n",
       "\n",
       "      NearbyPlace_Business  NearbyPlace_Education  NearbyPlace_Financial  \\\n",
       "3950                     0                      1                      0   \n",
       "\n",
       "      NearbyPlace_Healthcare  NearbyPlace_Leisure  NearbyPlace_Religious  \\\n",
       "3950                       0                    0                      0   \n",
       "\n",
       "      NearbyPlace_Residentail  NearbyPlace_Shopping  NearbyPlace_Transport  \\\n",
       "3950                        0                     1                      1   \n",
       "\n",
       "     Property Ownership     Furnishing Gated Community Power Backup  \\\n",
       "3950           Freehold  Semifurnished             Yes      Partial   \n",
       "\n",
       "                Parking  \n",
       "3950  1 Covered, 1 Open  "
      ]
     },
     "execution_count": 18,
     "metadata": {},
     "output_type": "execute_result"
    }
   ],
   "source": [
    "df.sample(1)"
   ]
  },
  {
   "cell_type": "code",
   "execution_count": 19,
   "id": "c38c96b8",
   "metadata": {},
   "outputs": [],
   "source": [
    "avg_price_by_parking = df.groupby('Parking')['Price'].mean().sort_values()"
   ]
  },
  {
   "cell_type": "code",
   "execution_count": 20,
   "id": "b1c698ec",
   "metadata": {},
   "outputs": [
    {
     "data": {
      "text/plain": [
       "Text(0, 0.5, 'Parking Type')"
      ]
     },
     "execution_count": 20,
     "metadata": {},
     "output_type": "execute_result"
    },
    {
     "data": {
      "image/png": "[encoded data removed]",
      "text/plain": [
       "<Figure size 1000x800 with 1 Axes>"
      ]
     },
     "metadata": {},
     "output_type": "display_data"
    }
   ],
   "source": [
    "import matplotlib.pyplot as plt\n",
    "\n",
    "plt.figure(figsize= (10, 8))\n",
    "avg_price_by_parking.plot(kind= 'barh', color= 'skyblue')\n",
    "plt.title('Average Property Price by Parking Type', fontsize=16)\n",
    "plt.xlabel('Average Price', fontsize=12)\n",
    "plt.ylabel('Parking Type', fontsize=12)"
   ]
  },
  {
   "cell_type": "code",
   "execution_count": 21,
   "id": "fc0ffa13",
   "metadata": {},
   "outputs": [
    {
     "data": {
      "text/html": [
       "<div>\n",
       "<style scoped>\n",
       "    .dataframe tbody tr th:only-of-type {\n",
       "        vertical-align: middle;\n",
       "    }\n",
       "\n",
       "    .dataframe tbody tr th {\n",
       "        vertical-align: top;\n",
       "    }\n",
       "\n",
       "    .dataframe thead th {\n",
       "        text-align: right;\n",
       "    }\n",
       "</style>\n",
       "<table border=\"1\" class=\"dataframe\">\n",
       "  <thead>\n",
       "    <tr style=\"text-align: right;\">\n",
       "      <th></th>\n",
       "      <th>Parking</th>\n",
       "      <th>Price</th>\n",
       "    </tr>\n",
       "  </thead>\n",
       "  <tbody>\n",
       "    <tr>\n",
       "      <th>0</th>\n",
       "      <td>5 Open</td>\n",
       "      <td>0.420000</td>\n",
       "    </tr>\n",
       "    <tr>\n",
       "      <th>1</th>\n",
       "      <td>0 Covered, 0 Open</td>\n",
       "      <td>0.600000</td>\n",
       "    </tr>\n",
       "    <tr>\n",
       "      <th>2</th>\n",
       "      <td>Covered, 1 Open</td>\n",
       "      <td>0.883125</td>\n",
       "    </tr>\n",
       "    <tr>\n",
       "      <th>3</th>\n",
       "      <td>16 Covered, 8 Open</td>\n",
       "      <td>1.200000</td>\n",
       "    </tr>\n",
       "    <tr>\n",
       "      <th>4</th>\n",
       "      <td>1 Covered, 4 Open</td>\n",
       "      <td>1.480000</td>\n",
       "    </tr>\n",
       "    <tr>\n",
       "      <th>5</th>\n",
       "      <td>1 Open</td>\n",
       "      <td>1.566566</td>\n",
       "    </tr>\n",
       "    <tr>\n",
       "      <th>6</th>\n",
       "      <td>Covered, Open</td>\n",
       "      <td>2.100000</td>\n",
       "    </tr>\n",
       "    <tr>\n",
       "      <th>7</th>\n",
       "      <td>1 Covered</td>\n",
       "      <td>2.212727</td>\n",
       "    </tr>\n",
       "    <tr>\n",
       "      <th>8</th>\n",
       "      <td>1 Covered, 1 Open</td>\n",
       "      <td>2.239670</td>\n",
       "    </tr>\n",
       "    <tr>\n",
       "      <th>9</th>\n",
       "      <td>1 Covered, Open</td>\n",
       "      <td>2.278000</td>\n",
       "    </tr>\n",
       "    <tr>\n",
       "      <th>10</th>\n",
       "      <td>1 Covered, 2 Open</td>\n",
       "      <td>2.375167</td>\n",
       "    </tr>\n",
       "    <tr>\n",
       "      <th>11</th>\n",
       "      <td>2 Open</td>\n",
       "      <td>2.406538</td>\n",
       "    </tr>\n",
       "    <tr>\n",
       "      <th>12</th>\n",
       "      <td>0 Covered, 1 Open</td>\n",
       "      <td>2.525000</td>\n",
       "    </tr>\n",
       "    <tr>\n",
       "      <th>13</th>\n",
       "      <td>1 Covered, 0 Open</td>\n",
       "      <td>2.700000</td>\n",
       "    </tr>\n",
       "    <tr>\n",
       "      <th>14</th>\n",
       "      <td>3 Open</td>\n",
       "      <td>2.785000</td>\n",
       "    </tr>\n",
       "    <tr>\n",
       "      <th>15</th>\n",
       "      <td>2 Covered, 3 Open</td>\n",
       "      <td>2.890000</td>\n",
       "    </tr>\n",
       "    <tr>\n",
       "      <th>16</th>\n",
       "      <td>2 Covered, Open</td>\n",
       "      <td>3.030000</td>\n",
       "    </tr>\n",
       "    <tr>\n",
       "      <th>17</th>\n",
       "      <td>2 Covered, 2 Open</td>\n",
       "      <td>3.061295</td>\n",
       "    </tr>\n",
       "    <tr>\n",
       "      <th>18</th>\n",
       "      <td>6 Covered, 3 Open</td>\n",
       "      <td>3.100000</td>\n",
       "    </tr>\n",
       "    <tr>\n",
       "      <th>19</th>\n",
       "      <td>4 Covered, 4 Open</td>\n",
       "      <td>3.136667</td>\n",
       "    </tr>\n",
       "    <tr>\n",
       "      <th>20</th>\n",
       "      <td>4 Covered, 2 Open</td>\n",
       "      <td>3.229000</td>\n",
       "    </tr>\n",
       "    <tr>\n",
       "      <th>21</th>\n",
       "      <td>1 Covered, 3 Open</td>\n",
       "      <td>3.250000</td>\n",
       "    </tr>\n",
       "    <tr>\n",
       "      <th>22</th>\n",
       "      <td>2 Covered</td>\n",
       "      <td>3.251129</td>\n",
       "    </tr>\n",
       "    <tr>\n",
       "      <th>23</th>\n",
       "      <td>2 Covered, 1 Open</td>\n",
       "      <td>3.315301</td>\n",
       "    </tr>\n",
       "    <tr>\n",
       "      <th>24</th>\n",
       "      <td>4 Covered, 3 Open</td>\n",
       "      <td>3.500000</td>\n",
       "    </tr>\n",
       "    <tr>\n",
       "      <th>25</th>\n",
       "      <td>1 Covered, 6 Open</td>\n",
       "      <td>3.500000</td>\n",
       "    </tr>\n",
       "    <tr>\n",
       "      <th>26</th>\n",
       "      <td>2 Covered, 4 Open</td>\n",
       "      <td>3.600000</td>\n",
       "    </tr>\n",
       "    <tr>\n",
       "      <th>27</th>\n",
       "      <td>3 Covered, 2 Open</td>\n",
       "      <td>3.814000</td>\n",
       "    </tr>\n",
       "    <tr>\n",
       "      <th>28</th>\n",
       "      <td>3 Covered, 1 Open</td>\n",
       "      <td>3.845256</td>\n",
       "    </tr>\n",
       "    <tr>\n",
       "      <th>29</th>\n",
       "      <td>3 Covered</td>\n",
       "      <td>3.938033</td>\n",
       "    </tr>\n",
       "    <tr>\n",
       "      <th>30</th>\n",
       "      <td>3 Covered, 3 Open</td>\n",
       "      <td>3.970000</td>\n",
       "    </tr>\n",
       "    <tr>\n",
       "      <th>31</th>\n",
       "      <td>2 Covered, 7 Open</td>\n",
       "      <td>4.100000</td>\n",
       "    </tr>\n",
       "    <tr>\n",
       "      <th>32</th>\n",
       "      <td>4 Covered</td>\n",
       "      <td>4.150000</td>\n",
       "    </tr>\n",
       "    <tr>\n",
       "      <th>33</th>\n",
       "      <td>2 Covered, 0 Open</td>\n",
       "      <td>4.336667</td>\n",
       "    </tr>\n",
       "    <tr>\n",
       "      <th>34</th>\n",
       "      <td>5 Covered</td>\n",
       "      <td>4.450000</td>\n",
       "    </tr>\n",
       "    <tr>\n",
       "      <th>35</th>\n",
       "      <td>4 Open</td>\n",
       "      <td>4.750000</td>\n",
       "    </tr>\n",
       "    <tr>\n",
       "      <th>36</th>\n",
       "      <td>4 Covered, 1 Open</td>\n",
       "      <td>5.250000</td>\n",
       "    </tr>\n",
       "    <tr>\n",
       "      <th>37</th>\n",
       "      <td>3 Covered, 4 Open</td>\n",
       "      <td>5.716667</td>\n",
       "    </tr>\n",
       "  </tbody>\n",
       "</table>\n",
       "</div>"
      ],
      "text/plain": [
       "               Parking     Price\n",
       "0               5 Open  0.420000\n",
       "1    0 Covered, 0 Open  0.600000\n",
       "2      Covered, 1 Open  0.883125\n",
       "3   16 Covered, 8 Open  1.200000\n",
       "4    1 Covered, 4 Open  1.480000\n",
       "5               1 Open  1.566566\n",
       "6        Covered, Open  2.100000\n",
       "7            1 Covered  2.212727\n",
       "8    1 Covered, 1 Open  2.239670\n",
       "9      1 Covered, Open  2.278000\n",
       "10   1 Covered, 2 Open  2.375167\n",
       "11              2 Open  2.406538\n",
       "12   0 Covered, 1 Open  2.525000\n",
       "13   1 Covered, 0 Open  2.700000\n",
       "14              3 Open  2.785000\n",
       "15   2 Covered, 3 Open  2.890000\n",
       "16     2 Covered, Open  3.030000\n",
       "17   2 Covered, 2 Open  3.061295\n",
       "18   6 Covered, 3 Open  3.100000\n",
       "19   4 Covered, 4 Open  3.136667\n",
       "20   4 Covered, 2 Open  3.229000\n",
       "21   1 Covered, 3 Open  3.250000\n",
       "22           2 Covered  3.251129\n",
       "23   2 Covered, 1 Open  3.315301\n",
       "24   4 Covered, 3 Open  3.500000\n",
       "25   1 Covered, 6 Open  3.500000\n",
       "26   2 Covered, 4 Open  3.600000\n",
       "27   3 Covered, 2 Open  3.814000\n",
       "28   3 Covered, 1 Open  3.845256\n",
       "29           3 Covered  3.938033\n",
       "30   3 Covered, 3 Open  3.970000\n",
       "31   2 Covered, 7 Open  4.100000\n",
       "32           4 Covered  4.150000\n",
       "33   2 Covered, 0 Open  4.336667\n",
       "34           5 Covered  4.450000\n",
       "35              4 Open  4.750000\n",
       "36   4 Covered, 1 Open  5.250000\n",
       "37   3 Covered, 4 Open  5.716667"
      ]
     },
     "execution_count": 21,
     "metadata": {},
     "output_type": "execute_result"
    }
   ],
   "source": [
    "avg_price_by_parking.reset_index()"
   ]
  },
  {
   "cell_type": "markdown",
   "id": "2278006b",
   "metadata": {},
   "source": [
    "2.21\n",
    "2.23\n",
    "3.25"
   ]
  },
  {
   "cell_type": "code",
   "execution_count": 22,
   "id": "32c39565",
   "metadata": {},
   "outputs": [],
   "source": [
    "df.loc[(df['Price'] <= 2.1) & (df['Parking'].isnull()), 'Parking'] = '1 Covered'\n",
    "df.loc[(df['Price'] > 2.1) & (df['Price'] <= 2.4) & (df['Parking'].isnull()), 'Parking'] = '1 Covered, 1 Open'\n",
    "df.loc[(df['Price'] > 2.4) & (df['Price'] <= 2.7) & (df['Parking'].isnull()), 'Parking'] = '1 Covered'\n",
    "df.loc[(df['Price'] > 2.7) & (df['Parking'].isnull()), 'Parking'] = '2 Covered'"
   ]
  },
  {
   "cell_type": "code",
   "execution_count": 23,
   "id": "1f1645b0",
   "metadata": {},
   "outputs": [
    {
     "data": {
      "text/plain": [
       "np.int64(0)"
      ]
     },
     "execution_count": 23,
     "metadata": {},
     "output_type": "execute_result"
    }
   ],
   "source": [
    "df['Parking'].isnull().sum()"
   ]
  },
  {
   "cell_type": "code",
   "execution_count": 24,
   "id": "15aef2a1",
   "metadata": {},
   "outputs": [],
   "source": [
    "# df['Open Parking'] = df['Parking'].str.split('Open').str.get(0).str.split(',').str.get(1).str.strip()"
   ]
  },
  {
   "cell_type": "code",
   "execution_count": 25,
   "id": "5de17c69",
   "metadata": {},
   "outputs": [],
   "source": [
    "# df['Covered Parking'] = df['Parking'].str.split('Covered').str.get(0).str.strip()"
   ]
  },
  {
   "cell_type": "code",
   "execution_count": 26,
   "id": "a8bf93f9",
   "metadata": {},
   "outputs": [],
   "source": [
    "# df['Covered Parking'] = df['Covered Parking'].fillna(0)\n",
    "# df['Open Parking'] = df['Open Parking'].fillna(0)"
   ]
  },
  {
   "cell_type": "code",
   "execution_count": 27,
   "id": "9f614219",
   "metadata": {},
   "outputs": [],
   "source": [
    "df['Covered_Parking'] = df['Parking'].str.extract(r'(\\d+)\\s*Covered').fillna(0).astype('int8')"
   ]
  },
  {
   "cell_type": "code",
   "execution_count": 28,
   "id": "5c92f040",
   "metadata": {},
   "outputs": [],
   "source": [
    "df['Open_Parking'] = df['Parking'].str.extract(r'(\\d+)\\s*Open').fillna(0).astype('int8')"
   ]
  },
  {
   "cell_type": "code",
   "execution_count": 29,
   "id": "f4052022",
   "metadata": {},
   "outputs": [
    {
     "data": {
      "text/plain": [
       "np.int64(0)"
      ]
     },
     "execution_count": 29,
     "metadata": {},
     "output_type": "execute_result"
    }
   ],
   "source": [
    "df['Open_Parking'].isnull().sum()"
   ]
  },
  {
   "cell_type": "code",
   "execution_count": 30,
   "id": "c6f36b1d",
   "metadata": {},
   "outputs": [
    {
     "data": {
      "text/plain": [
       "np.int64(0)"
      ]
     },
     "execution_count": 30,
     "metadata": {},
     "output_type": "execute_result"
    }
   ],
   "source": [
    "df['Covered_Parking'].isnull().sum()"
   ]
  },
  {
   "cell_type": "code",
   "execution_count": 31,
   "id": "1a2201d0",
   "metadata": {},
   "outputs": [],
   "source": [
    "df['Total Parking'] = df['Open_Parking'] + df['Covered_Parking']\n",
    "df['Total Parking'] = df['Total Parking'].astype('int8')"
   ]
  },
  {
   "cell_type": "code",
   "execution_count": 32,
   "id": "c78cd7cb",
   "metadata": {},
   "outputs": [
    {
     "data": {
      "text/html": [
       "<div>\n",
       "<style scoped>\n",
       "    .dataframe tbody tr th:only-of-type {\n",
       "        vertical-align: middle;\n",
       "    }\n",
       "\n",
       "    .dataframe tbody tr th {\n",
       "        vertical-align: top;\n",
       "    }\n",
       "\n",
       "    .dataframe thead th {\n",
       "        text-align: right;\n",
       "    }\n",
       "</style>\n",
       "<table border=\"1\" class=\"dataframe\">\n",
       "  <thead>\n",
       "    <tr style=\"text-align: right;\">\n",
       "      <th></th>\n",
       "      <th>Property Name</th>\n",
       "      <th>Sector</th>\n",
       "      <th>Price</th>\n",
       "      <th>Built Up Area</th>\n",
       "      <th>Bedroom</th>\n",
       "      <th>Bathroom</th>\n",
       "      <th>Balcony</th>\n",
       "      <th>Others</th>\n",
       "      <th>Pooja Room</th>\n",
       "      <th>Servant Room</th>\n",
       "      <th>Store Room</th>\n",
       "      <th>Study Room</th>\n",
       "      <th>Floor Num</th>\n",
       "      <th>Total Floor</th>\n",
       "      <th>Facing_North</th>\n",
       "      <th>Facing_North-East</th>\n",
       "      <th>Facing_North-West</th>\n",
       "      <th>Facing_South</th>\n",
       "      <th>Facing_South-East</th>\n",
       "      <th>Facing_South-West</th>\n",
       "      <th>Facing_Unknown</th>\n",
       "      <th>Facing_West</th>\n",
       "      <th>Property Age</th>\n",
       "      <th>details</th>\n",
       "      <th>Rating</th>\n",
       "      <th>URL</th>\n",
       "      <th>Overlooking_Club</th>\n",
       "      <th>Overlooking_Lake facing</th>\n",
       "      <th>Overlooking_Main Road</th>\n",
       "      <th>Overlooking_Others</th>\n",
       "      <th>Overlooking_Park</th>\n",
       "      <th>Overlooking_Pool</th>\n",
       "      <th>NearbyPlace_Business</th>\n",
       "      <th>NearbyPlace_Education</th>\n",
       "      <th>NearbyPlace_Financial</th>\n",
       "      <th>NearbyPlace_Healthcare</th>\n",
       "      <th>NearbyPlace_Leisure</th>\n",
       "      <th>NearbyPlace_Religious</th>\n",
       "      <th>NearbyPlace_Residentail</th>\n",
       "      <th>NearbyPlace_Shopping</th>\n",
       "      <th>NearbyPlace_Transport</th>\n",
       "      <th>Property Ownership</th>\n",
       "      <th>Furnishing</th>\n",
       "      <th>Gated Community</th>\n",
       "      <th>Power Backup</th>\n",
       "      <th>Parking</th>\n",
       "      <th>Covered_Parking</th>\n",
       "      <th>Open_Parking</th>\n",
       "      <th>Total Parking</th>\n",
       "    </tr>\n",
       "  </thead>\n",
       "  <tbody>\n",
       "    <tr>\n",
       "      <th>4833</th>\n",
       "      <td>Puri Diplomatic Greens</td>\n",
       "      <td>Sector 111</td>\n",
       "      <td>4.8</td>\n",
       "      <td>2731</td>\n",
       "      <td>4</td>\n",
       "      <td>5</td>\n",
       "      <td>3+</td>\n",
       "      <td>0</td>\n",
       "      <td>0</td>\n",
       "      <td>1</td>\n",
       "      <td>0</td>\n",
       "      <td>0</td>\n",
       "      <td>10</td>\n",
       "      <td>22</td>\n",
       "      <td>0</td>\n",
       "      <td>1</td>\n",
       "      <td>0</td>\n",
       "      <td>0</td>\n",
       "      <td>0</td>\n",
       "      <td>0</td>\n",
       "      <td>0</td>\n",
       "      <td>0</td>\n",
       "      <td>1</td>\n",
       "      <td>Transaction Type: :, Resale | Property Ownership: :, Freehold | Flooring: :, Vitrified | Furnishing: :, Semifurnished | Width of facing road: :, 492.1 Feet | Gated Community: :, Yes | Corner Property: :, Yes | Parking: :, 1 Covered | Water Source: :, Municipal corporation | Power Backup: :, Full | Property Code: :, Z44648697</td>\n",
       "      <td>3.7</td>\n",
       "      <td>https://www.99acres.com/4-bhk-bedroom-apartment-flat-for-sale-in-puri-diplomatic-greens-sector-111-gurgaon-2950-sq-ft-r20-spid-Z44648697</td>\n",
       "      <td>1</td>\n",
       "      <td>0</td>\n",
       "      <td>1</td>\n",
       "      <td>0</td>\n",
       "      <td>1</td>\n",
       "      <td>1</td>\n",
       "      <td>0</td>\n",
       "      <td>1</td>\n",
       "      <td>0</td>\n",
       "      <td>0</td>\n",
       "      <td>0</td>\n",
       "      <td>0</td>\n",
       "      <td>0</td>\n",
       "      <td>1</td>\n",
       "      <td>1</td>\n",
       "      <td>Freehold</td>\n",
       "      <td>Semifurnished</td>\n",
       "      <td>Yes</td>\n",
       "      <td>Full</td>\n",
       "      <td>1 Covered</td>\n",
       "      <td>1</td>\n",
       "      <td>0</td>\n",
       "      <td>1</td>\n",
       "    </tr>\n",
       "  </tbody>\n",
       "</table>\n",
       "</div>"
      ],
      "text/plain": [
       "               Property Name      Sector  Price  Built Up Area  Bedroom  \\\n",
       "4833  Puri Diplomatic Greens  Sector 111    4.8           2731        4   \n",
       "\n",
       "      Bathroom Balcony  Others  Pooja Room  Servant Room  Store Room  \\\n",
       "4833         5      3+       0           0             1           0   \n",
       "\n",
       "      Study Room  Floor Num  Total Floor  Facing_North  Facing_North-East  \\\n",
       "4833           0         10           22             0                  1   \n",
       "\n",
       "      Facing_North-West  Facing_South  Facing_South-East  Facing_South-West  \\\n",
       "4833                  0             0                  0                  0   \n",
       "\n",
       "      Facing_Unknown  Facing_West  Property Age  \\\n",
       "4833               0            0             1   \n",
       "\n",
       "                                                                                                                                                                                                                                                                                                                                     details  \\\n",
       "4833  Transaction Type: :, Resale | Property Ownership: :, Freehold | Flooring: :, Vitrified | Furnishing: :, Semifurnished | Width of facing road: :, 492.1 Feet | Gated Community: :, Yes | Corner Property: :, Yes | Parking: :, 1 Covered | Water Source: :, Municipal corporation | Power Backup: :, Full | Property Code: :, Z44648697   \n",
       "\n",
       "      Rating  \\\n",
       "4833     3.7   \n",
       "\n",
       "                                                                                                                                           URL  \\\n",
       "4833  https://www.99acres.com/4-bhk-bedroom-apartment-flat-for-sale-in-puri-diplomatic-greens-sector-111-gurgaon-2950-sq-ft-r20-spid-Z44648697   \n",
       "\n",
       "      Overlooking_Club  Overlooking_Lake facing  Overlooking_Main Road  \\\n",
       "4833                 1                        0                      1   \n",
       "\n",
       "      Overlooking_Others  Overlooking_Park  Overlooking_Pool  \\\n",
       "4833                   0                 1                 1   \n",
       "\n",
       "      NearbyPlace_Business  NearbyPlace_Education  NearbyPlace_Financial  \\\n",
       "4833                     0                      1                      0   \n",
       "\n",
       "      NearbyPlace_Healthcare  NearbyPlace_Leisure  NearbyPlace_Religious  \\\n",
       "4833                       0                    0                      0   \n",
       "\n",
       "      NearbyPlace_Residentail  NearbyPlace_Shopping  NearbyPlace_Transport  \\\n",
       "4833                        0                     1                      1   \n",
       "\n",
       "     Property Ownership     Furnishing Gated Community Power Backup  \\\n",
       "4833           Freehold  Semifurnished             Yes         Full   \n",
       "\n",
       "        Parking  Covered_Parking  Open_Parking  Total Parking  \n",
       "4833  1 Covered                1             0              1  "
      ]
     },
     "execution_count": 32,
     "metadata": {},
     "output_type": "execute_result"
    }
   ],
   "source": [
    "df.sample(1)"
   ]
  },
  {
   "cell_type": "code",
   "execution_count": 33,
   "id": "ab2eefe1",
   "metadata": {},
   "outputs": [],
   "source": [
    "df.drop(columns= 'Parking', inplace= True)"
   ]
  },
  {
   "cell_type": "code",
   "execution_count": 34,
   "id": "49a27937",
   "metadata": {},
   "outputs": [
    {
     "data": {
      "text/plain": [
       "Property Name                 0\n",
       "Sector                        0\n",
       "Price                         0\n",
       "Built Up Area                 0\n",
       "Bedroom                       0\n",
       "Bathroom                      0\n",
       "Balcony                       0\n",
       "Others                        0\n",
       "Pooja Room                    0\n",
       "Servant Room                  0\n",
       "Store Room                    0\n",
       "Study Room                    0\n",
       "Floor Num                     0\n",
       "Total Floor                   0\n",
       "Facing_North                  0\n",
       "Facing_North-East             0\n",
       "Facing_North-West             0\n",
       "Facing_South                  0\n",
       "Facing_South-East             0\n",
       "Facing_South-West             0\n",
       "Facing_Unknown                0\n",
       "Facing_West                   0\n",
       "Property Age                  0\n",
       "details                       0\n",
       "Rating                     3681\n",
       "URL                           0\n",
       "Overlooking_Club              0\n",
       "Overlooking_Lake facing       0\n",
       "Overlooking_Main Road         0\n",
       "Overlooking_Others            0\n",
       "Overlooking_Park              0\n",
       "Overlooking_Pool              0\n",
       "NearbyPlace_Business          0\n",
       "NearbyPlace_Education         0\n",
       "NearbyPlace_Financial         0\n",
       "NearbyPlace_Healthcare        0\n",
       "NearbyPlace_Leisure           0\n",
       "NearbyPlace_Religious         0\n",
       "NearbyPlace_Residentail       0\n",
       "NearbyPlace_Shopping          0\n",
       "NearbyPlace_Transport         0\n",
       "Property Ownership           20\n",
       "Furnishing                  310\n",
       "Gated Community             916\n",
       "Power Backup                  0\n",
       "Covered_Parking               0\n",
       "Open_Parking                  0\n",
       "Total Parking                 0\n",
       "dtype: int64"
      ]
     },
     "execution_count": 34,
     "metadata": {},
     "output_type": "execute_result"
    }
   ],
   "source": [
    "df.isnull().sum()"
   ]
  },
  {
   "cell_type": "code",
   "execution_count": 35,
   "id": "5897158a",
   "metadata": {},
   "outputs": [
    {
     "data": {
      "text/plain": [
       "<Axes: xlabel='Property Ownership'>"
      ]
     },
     "execution_count": 35,
     "metadata": {},
     "output_type": "execute_result"
    },
    {
     "data": {
      "image/png": "[encoded data removed]",
      "text/plain": [
       "<Figure size 640x480 with 1 Axes>"
      ]
     },
     "metadata": {},
     "output_type": "display_data"
    }
   ],
   "source": [
    "df['Property Ownership'].value_counts().plot(kind= 'bar', color= 'skyblue')"
   ]
  },
  {
   "cell_type": "code",
   "execution_count": 36,
   "id": "6f81a154",
   "metadata": {},
   "outputs": [],
   "source": [
    "df['Property Ownership'] = df['Property Ownership'].fillna('Freehold')"
   ]
  },
  {
   "cell_type": "code",
   "execution_count": 37,
   "id": "ad434804",
   "metadata": {},
   "outputs": [
    {
     "data": {
      "text/plain": [
       "<Axes: xlabel='Furnishing'>"
      ]
     },
     "execution_count": 37,
     "metadata": {},
     "output_type": "execute_result"
    },
    {
     "data": {
      "image/png": "[encoded data removed]",
      "text/plain": [
       "<Figure size 640x480 with 1 Axes>"
      ]
     },
     "metadata": {},
     "output_type": "display_data"
    }
   ],
   "source": [
    "df['Furnishing'].value_counts().plot(kind= 'bar', color= 'skyblue')"
   ]
  },
  {
   "cell_type": "code",
   "execution_count": 38,
   "id": "d3c5ff6c",
   "metadata": {},
   "outputs": [
    {
     "name": "stderr",
     "output_type": "stream",
     "text": [
      "C:\\Users\\aryan\\AppData\\Local\\Temp\\ipykernel_18144\\39529471.py:1: FutureWarning: A value is trying to be set on a copy of a DataFrame or Series through chained assignment using an inplace method.\n",
      "The behavior will change in pandas 3.0. This inplace method will never work because the intermediate object on which we are setting values always behaves as a copy.\n",
      "\n",
      "For example, when doing 'df[col].method(value, inplace=True)', try using 'df.method({col: value}, inplace=True)' or df[col] = df[col].method(value) instead, to perform the operation inplace on the original object.\n",
      "\n",
      "\n",
      "  df['Furnishing'].fillna(df['Furnishing'].mode()[0], inplace=True)\n"
     ]
    }
   ],
   "source": [
    "df['Furnishing'].fillna(df['Furnishing'].mode()[0], inplace=True)"
   ]
  },
  {
   "cell_type": "code",
   "execution_count": 39,
   "id": "4c550e0b",
   "metadata": {},
   "outputs": [
    {
     "data": {
      "text/plain": [
       "Gated Community\n",
       "Yes    8720\n",
       "Name: count, dtype: int64"
      ]
     },
     "execution_count": 39,
     "metadata": {},
     "output_type": "execute_result"
    }
   ],
   "source": [
    "df['Gated Community'].value_counts()"
   ]
  },
  {
   "cell_type": "code",
   "execution_count": 40,
   "id": "d56ec790",
   "metadata": {},
   "outputs": [],
   "source": [
    "df.drop(columns= 'Gated Community', inplace= True)"
   ]
  },
  {
   "cell_type": "code",
   "execution_count": 41,
   "id": "180644d5",
   "metadata": {},
   "outputs": [
    {
     "data": {
      "text/plain": [
       "Index(['Property Name', 'Sector', 'Price', 'Built Up Area', 'Bedroom',\n",
       "       'Bathroom', 'Balcony', 'Others', 'Pooja Room', 'Servant Room',\n",
       "       'Store Room', 'Study Room', 'Floor Num', 'Total Floor', 'Facing_North',\n",
       "       'Facing_North-East', 'Facing_North-West', 'Facing_South',\n",
       "       'Facing_South-East', 'Facing_South-West', 'Facing_Unknown',\n",
       "       'Facing_West', 'Property Age', 'details', 'Rating', 'URL',\n",
       "       'Overlooking_Club', 'Overlooking_Lake facing', 'Overlooking_Main Road',\n",
       "       'Overlooking_Others', 'Overlooking_Park', 'Overlooking_Pool',\n",
       "       'NearbyPlace_Business', 'NearbyPlace_Education',\n",
       "       'NearbyPlace_Financial', 'NearbyPlace_Healthcare',\n",
       "       'NearbyPlace_Leisure', 'NearbyPlace_Religious',\n",
       "       'NearbyPlace_Residentail', 'NearbyPlace_Shopping',\n",
       "       'NearbyPlace_Transport', 'Property Ownership', 'Furnishing',\n",
       "       'Power Backup', 'Covered_Parking', 'Open_Parking', 'Total Parking'],\n",
       "      dtype='object')"
      ]
     },
     "execution_count": 41,
     "metadata": {},
     "output_type": "execute_result"
    }
   ],
   "source": [
    "df.columns"
   ]
  },
  {
   "cell_type": "code",
   "execution_count": 42,
   "id": "2b0c18e4",
   "metadata": {},
   "outputs": [],
   "source": [
    "df.drop(columns= ['details'], inplace= True)"
   ]
  },
  {
   "cell_type": "code",
   "execution_count": null,
   "id": "6348bd1e",
   "metadata": {},
   "outputs": [],
   "source": [
    "# df.drop(columns= 'Property Name', inplace= True)"
   ]
  },
  {
   "cell_type": "code",
   "execution_count": 43,
   "id": "acd3d418",
   "metadata": {},
   "outputs": [
    {
     "data": {
      "text/plain": [
       "<Axes: xlabel='Rating'>"
      ]
     },
     "execution_count": 43,
     "metadata": {},
     "output_type": "execute_result"
    },
    {
     "data": {
      "image/png": "[encoded data removed]",
      "text/plain": [
       "<Figure size 640x480 with 1 Axes>"
      ]
     },
     "metadata": {},
     "output_type": "display_data"
    }
   ],
   "source": [
    "df['Rating'].value_counts().plot(kind= 'bar', color= 'skyblue')"
   ]
  },
  {
   "cell_type": "markdown",
   "id": "0217d05e",
   "metadata": {},
   "source": [
    "**Rating**"
   ]
  },
  {
   "cell_type": "code",
   "execution_count": 44,
   "id": "1af6f785",
   "metadata": {},
   "outputs": [],
   "source": [
    "categorical_cols = df.select_dtypes(include=['object', 'category']).columns\n",
    "columns_to_encode = ['Sector', 'Furnishing', 'Property Ownership', 'Power Backup']\n",
    "df_encoded = pd.get_dummies(df, columns=columns_to_encode, drop_first=True)"
   ]
  },
  {
   "cell_type": "code",
   "execution_count": 45,
   "id": "5b232f2d",
   "metadata": {},
   "outputs": [],
   "source": [
    "df_encoded.loc[df_encoded['Balcony'] == '3+', 'Balcony'] = '4'"
   ]
  },
  {
   "cell_type": "code",
   "execution_count": 49,
   "id": "e9323198",
   "metadata": {},
   "outputs": [],
   "source": [
    "from sklearn.impute import KNNImputer\n",
    "from sklearn.preprocessing import MinMaxScaler\n",
    "\n",
    "scaler = MinMaxScaler()\n",
    "df_scaled = pd.DataFrame(scaler.fit_transform(df_encoded.drop(columns= ['Property Name', 'URL'])), columns= df_encoded.drop(columns= ['Property Name', 'URL']).columns)"
   ]
  },
  {
   "cell_type": "code",
   "execution_count": 50,
   "id": "057fb766",
   "metadata": {},
   "outputs": [],
   "source": [
    "imputer = KNNImputer(n_neighbors= 5)\n",
    "df_imputed_scaled = pd.DataFrame(imputer.fit_transform(df_scaled), columns= df_scaled.columns)\n",
    "df_imputed = pd.DataFrame(scaler.inverse_transform(df_imputed_scaled), columns= df_imputed_scaled.columns, index= df.index)"
   ]
  },
  {
   "cell_type": "code",
   "execution_count": 51,
   "id": "9f7f8573",
   "metadata": {},
   "outputs": [],
   "source": [
    "df['Rating_imputed'] = df_imputed['Rating']"
   ]
  },
  {
   "cell_type": "code",
   "execution_count": 52,
   "id": "58ff5325",
   "metadata": {},
   "outputs": [
    {
     "data": {
      "text/html": [
       "<div>\n",
       "<style scoped>\n",
       "    .dataframe tbody tr th:only-of-type {\n",
       "        vertical-align: middle;\n",
       "    }\n",
       "\n",
       "    .dataframe tbody tr th {\n",
       "        vertical-align: top;\n",
       "    }\n",
       "\n",
       "    .dataframe thead th {\n",
       "        text-align: right;\n",
       "    }\n",
       "</style>\n",
       "<table border=\"1\" class=\"dataframe\">\n",
       "  <thead>\n",
       "    <tr style=\"text-align: right;\">\n",
       "      <th></th>\n",
       "      <th>Rating</th>\n",
       "      <th>Rating_imputed</th>\n",
       "    </tr>\n",
       "  </thead>\n",
       "  <tbody>\n",
       "    <tr>\n",
       "      <th>7331</th>\n",
       "      <td>NaN</td>\n",
       "      <td>3.84</td>\n",
       "    </tr>\n",
       "    <tr>\n",
       "      <th>1638</th>\n",
       "      <td>NaN</td>\n",
       "      <td>3.80</td>\n",
       "    </tr>\n",
       "    <tr>\n",
       "      <th>1012</th>\n",
       "      <td>4.0</td>\n",
       "      <td>4.00</td>\n",
       "    </tr>\n",
       "    <tr>\n",
       "      <th>6980</th>\n",
       "      <td>4.1</td>\n",
       "      <td>4.10</td>\n",
       "    </tr>\n",
       "    <tr>\n",
       "      <th>6055</th>\n",
       "      <td>3.5</td>\n",
       "      <td>3.50</td>\n",
       "    </tr>\n",
       "  </tbody>\n",
       "</table>\n",
       "</div>"
      ],
      "text/plain": [
       "      Rating  Rating_imputed\n",
       "7331     NaN            3.84\n",
       "1638     NaN            3.80\n",
       "1012     4.0            4.00\n",
       "6980     4.1            4.10\n",
       "6055     3.5            3.50"
      ]
     },
     "execution_count": 52,
     "metadata": {},
     "output_type": "execute_result"
    }
   ],
   "source": [
    "df[['Rating', 'Rating_imputed']].sample(5)"
   ]
  },
  {
   "cell_type": "code",
   "execution_count": 53,
   "id": "5dc7cd49",
   "metadata": {},
   "outputs": [],
   "source": [
    "df.drop(columns= 'Rating', inplace= True)"
   ]
  },
  {
   "cell_type": "code",
   "execution_count": 54,
   "id": "36073c84",
   "metadata": {},
   "outputs": [],
   "source": [
    "df.rename(columns= {'Rating_imputed': 'Rating'}, inplace= True)"
   ]
  },
  {
   "cell_type": "code",
   "execution_count": 55,
   "id": "a64d083b",
   "metadata": {},
   "outputs": [
    {
     "data": {
      "text/plain": [
       "Index(['Property Name', 'Sector', 'Price', 'Built Up Area', 'Bedroom',\n",
       "       'Bathroom', 'Balcony', 'Others', 'Pooja Room', 'Servant Room',\n",
       "       'Store Room', 'Study Room', 'Floor Num', 'Total Floor', 'Facing_North',\n",
       "       'Facing_North-East', 'Facing_North-West', 'Facing_South',\n",
       "       'Facing_South-East', 'Facing_South-West', 'Facing_Unknown',\n",
       "       'Facing_West', 'Property Age', 'URL', 'Overlooking_Club',\n",
       "       'Overlooking_Lake facing', 'Overlooking_Main Road',\n",
       "       'Overlooking_Others', 'Overlooking_Park', 'Overlooking_Pool',\n",
       "       'NearbyPlace_Business', 'NearbyPlace_Education',\n",
       "       'NearbyPlace_Financial', 'NearbyPlace_Healthcare',\n",
       "       'NearbyPlace_Leisure', 'NearbyPlace_Religious',\n",
       "       'NearbyPlace_Residentail', 'NearbyPlace_Shopping',\n",
       "       'NearbyPlace_Transport', 'Property Ownership', 'Furnishing',\n",
       "       'Power Backup', 'Covered_Parking', 'Open_Parking', 'Total Parking',\n",
       "       'Rating'],\n",
       "      dtype='object')"
      ]
     },
     "execution_count": 55,
     "metadata": {},
     "output_type": "execute_result"
    }
   ],
   "source": [
    "df.columns"
   ]
  },
  {
   "cell_type": "code",
   "execution_count": 56,
   "id": "44dc99d8",
   "metadata": {},
   "outputs": [
    {
     "data": {
      "text/plain": [
       "Property Name              0\n",
       "Sector                     0\n",
       "Price                      0\n",
       "Built Up Area              0\n",
       "Bedroom                    0\n",
       "Bathroom                   0\n",
       "Balcony                    0\n",
       "Others                     0\n",
       "Pooja Room                 0\n",
       "Servant Room               0\n",
       "Store Room                 0\n",
       "Study Room                 0\n",
       "Floor Num                  0\n",
       "Total Floor                0\n",
       "Facing_North               0\n",
       "Facing_North-East          0\n",
       "Facing_North-West          0\n",
       "Facing_South               0\n",
       "Facing_South-East          0\n",
       "Facing_South-West          0\n",
       "Facing_Unknown             0\n",
       "Facing_West                0\n",
       "Property Age               0\n",
       "URL                        0\n",
       "Overlooking_Club           0\n",
       "Overlooking_Lake facing    0\n",
       "Overlooking_Main Road      0\n",
       "Overlooking_Others         0\n",
       "Overlooking_Park           0\n",
       "Overlooking_Pool           0\n",
       "NearbyPlace_Business       0\n",
       "NearbyPlace_Education      0\n",
       "NearbyPlace_Financial      0\n",
       "NearbyPlace_Healthcare     0\n",
       "NearbyPlace_Leisure        0\n",
       "NearbyPlace_Religious      0\n",
       "NearbyPlace_Residentail    0\n",
       "NearbyPlace_Shopping       0\n",
       "NearbyPlace_Transport      0\n",
       "Property Ownership         0\n",
       "Furnishing                 0\n",
       "Power Backup               0\n",
       "Covered_Parking            0\n",
       "Open_Parking               0\n",
       "Total Parking              0\n",
       "Rating                     0\n",
       "dtype: int64"
      ]
     },
     "execution_count": 56,
     "metadata": {},
     "output_type": "execute_result"
    }
   ],
   "source": [
    "df.isnull().sum()"
   ]
  },
  {
   "cell_type": "code",
   "execution_count": 57,
   "id": "3f096867",
   "metadata": {},
   "outputs": [
    {
     "data": {
      "text/plain": [
       "Property Name               object\n",
       "Sector                      object\n",
       "Price                      float64\n",
       "Built Up Area                int64\n",
       "Bedroom                      int64\n",
       "Bathroom                     int64\n",
       "Balcony                     object\n",
       "Others                       int64\n",
       "Pooja Room                   int64\n",
       "Servant Room                 int64\n",
       "Store Room                   int64\n",
       "Study Room                   int64\n",
       "Floor Num                    int64\n",
       "Total Floor                  int64\n",
       "Facing_North                 int64\n",
       "Facing_North-East            int64\n",
       "Facing_North-West            int64\n",
       "Facing_South                 int64\n",
       "Facing_South-East            int64\n",
       "Facing_South-West            int64\n",
       "Facing_Unknown               int64\n",
       "Facing_West                  int64\n",
       "Property Age                 int64\n",
       "URL                         object\n",
       "Overlooking_Club             int64\n",
       "Overlooking_Lake facing      int64\n",
       "Overlooking_Main Road        int64\n",
       "Overlooking_Others           int64\n",
       "Overlooking_Park             int64\n",
       "Overlooking_Pool             int64\n",
       "NearbyPlace_Business         int64\n",
       "NearbyPlace_Education        int64\n",
       "NearbyPlace_Financial        int64\n",
       "NearbyPlace_Healthcare       int64\n",
       "NearbyPlace_Leisure          int64\n",
       "NearbyPlace_Religious        int64\n",
       "NearbyPlace_Residentail      int64\n",
       "NearbyPlace_Shopping         int64\n",
       "NearbyPlace_Transport        int64\n",
       "Property Ownership          object\n",
       "Furnishing                  object\n",
       "Power Backup                object\n",
       "Covered_Parking               int8\n",
       "Open_Parking                  int8\n",
       "Total Parking                 int8\n",
       "Rating                     float64\n",
       "dtype: object"
      ]
     },
     "execution_count": 57,
     "metadata": {},
     "output_type": "execute_result"
    }
   ],
   "source": [
    "df.dtypes"
   ]
  },
  {
   "cell_type": "code",
   "execution_count": null,
   "id": "ec0466d4",
   "metadata": {},
   "outputs": [],
   "source": [
    "# df['Bedroom'] = df['Bedroom'].astype('int8')\n",
    "# df['Bathroom'] = df['Bathroom'].astype('int8')\n",
    "# df['Others'] = df['Others'].astype('int8')\n",
    "# df['Pooja Room'] = df['Pooja Room'].astype('int8')\n",
    "# df['Servant Room'] = df['Servant Room'].astype('int8')\n",
    "# df['Store Room'] = df['Store Room'].astype('int8')\n",
    "# df['Study Room'] = df['Study Room'].astype('int8')\n",
    "# df['Floor Num'] = df['Floor Num'].astype('int8')\n",
    "# df['Total Floor'] = df['Total Floor'].astype('int8')\n",
    "# df['Facing_North'] = df['Facing_North'].astype('int8')\n",
    "# df['Facing_North-East'] = df['Facing_North-East'].astype('int8')\n",
    "# df['Facing_North-West'] = df['Facing_North-West'].astype('int8')\n",
    "# df['Facing_South'] = df['Facing_South'].astype('int8')\n",
    "# df['Facing_South-East'] = df['Facing_South-East'].astype('int8')\n",
    "# df['Facing_South-West'] = df['Facing_South-West'].astype('int8')\n",
    "# df['Facing_Unknown'] = df['Facing_Unknown'].astype('int8')\n",
    "# df['Facing_West'] = df['Facing_West'].astype('int8')\n",
    "# df['Property Age'] = df['Property Age'].astype('int8')\n",
    "# df['Overlooking_Club'] = df['Overlooking_Club'].astype('int8')\n",
    "# df['Overlooking_Lake facing'] = df['Overlooking_Lake facing'].astype('int8')\n",
    "# df['Overlooking_Main Road'] = df['Overlooking_Main Road'].astype('int8')\n",
    "# df['Overlooking_Others'] = df['Overlooking_Others'].astype('int8')\n",
    "# df['Overlooking_Park'] = df['Overlooking_Park'].astype('int8')\n",
    "# df['Overlooking_Pool'] = df['Overlooking_Pool'].astype('int8')\n",
    "# df['NearbyPlace_Business'] = df['NearbyPlace_Business'].astype('int8')\n",
    "# df['NearbyPlace_Education'] = df['NearbyPlace_Education'].astype('int8')\n",
    "# df['NearbyPlace_Financial'] = df['NearbyPlace_Financial'].astype('int8')\n",
    "# df['NearbyPlace_Healthcare'] = df['NearbyPlace_Healthcare'].astype('int8')\n",
    "# df['NearbyPlace_Leisure'] = df['NearbyPlace_Leisure'].astype('int8')\n",
    "# df['NearbyPlace_Religious'] = df['NearbyPlace_Religious'].astype('int8')\n",
    "# df['NearbyPlace_Residentail'] = df['NearbyPlace_Residentail'].astype('int8')\n",
    "# df['NearbyPlace_Shopping'] = df['NearbyPlace_Shopping'].astype('int8')\n",
    "# df['NearbyPlace_Transport'] = df['NearbyPlace_Transport'].astype('int8')\n",
    "# df['Open_Parking'] = df['Open_Parking'].astype('int8')\n",
    "# df['Covered_Parking'] = df['Covered_Parking'].astype('int8')\n",
    "# df['Total Parking'] = df['Total Parking'].astype('int8')"
   ]
  },
  {
   "cell_type": "code",
   "execution_count": 57,
   "id": "051a87bb",
   "metadata": {},
   "outputs": [
    {
     "data": {
      "text/plain": [
       "Sector                      object\n",
       "Price                      float64\n",
       "Built Up Area                int64\n",
       "Bedroom                       int8\n",
       "Bathroom                      int8\n",
       "Balcony                     object\n",
       "Others                        int8\n",
       "Pooja Room                    int8\n",
       "Servant Room                  int8\n",
       "Store Room                    int8\n",
       "Study Room                    int8\n",
       "Floor Num                     int8\n",
       "Total Floor                   int8\n",
       "Facing_North                  int8\n",
       "Facing_North-East             int8\n",
       "Facing_North-West             int8\n",
       "Facing_South                  int8\n",
       "Facing_South-East             int8\n",
       "Facing_South-West             int8\n",
       "Facing_Unknown                int8\n",
       "Facing_West                   int8\n",
       "Property Age                  int8\n",
       "Overlooking_Club              int8\n",
       "Overlooking_Lake facing       int8\n",
       "Overlooking_Main Road         int8\n",
       "Overlooking_Others            int8\n",
       "Overlooking_Park              int8\n",
       "Overlooking_Pool              int8\n",
       "NearbyPlace_Business          int8\n",
       "NearbyPlace_Education         int8\n",
       "NearbyPlace_Financial         int8\n",
       "NearbyPlace_Healthcare        int8\n",
       "NearbyPlace_Leisure           int8\n",
       "NearbyPlace_Religious         int8\n",
       "NearbyPlace_Residentail       int8\n",
       "NearbyPlace_Shopping          int8\n",
       "NearbyPlace_Transport         int8\n",
       "Property Ownership          object\n",
       "Furnishing                  object\n",
       "Power Backup                object\n",
       "Covered_Parking               int8\n",
       "Open_Parking                  int8\n",
       "Total Parking                 int8\n",
       "Rating                     float64\n",
       "dtype: object"
      ]
     },
     "execution_count": 57,
     "metadata": {},
     "output_type": "execute_result"
    }
   ],
   "source": [
    "df.dtypes"
   ]
  },
  {
   "cell_type": "code",
   "execution_count": 58,
   "id": "f78688dd",
   "metadata": {},
   "outputs": [
    {
     "data": {
      "text/plain": [
       "<Axes: xlabel='Balcony'>"
      ]
     },
     "execution_count": 58,
     "metadata": {},
     "output_type": "execute_result"
    },
    {
     "data": {
      "image/png": "[encoded data removed]",
      "text/plain": [
       "<Figure size 640x480 with 1 Axes>"
      ]
     },
     "metadata": {},
     "output_type": "display_data"
    }
   ],
   "source": [
    "df['Balcony'].value_counts().plot(kind= 'bar', color= 'skyblue')"
   ]
  },
  {
   "cell_type": "code",
   "execution_count": 59,
   "id": "98f0762a",
   "metadata": {},
   "outputs": [],
   "source": [
    "df.loc[df['Balcony'] == '3+', 'Balcony'] = 4"
   ]
  },
  {
   "cell_type": "code",
   "execution_count": null,
   "id": "4daf0c60",
   "metadata": {},
   "outputs": [],
   "source": [
    "# df['Balcony'] = df['Balcony'].astype('int8')"
   ]
  },
  {
   "cell_type": "code",
   "execution_count": 60,
   "id": "56ca916c",
   "metadata": {},
   "outputs": [
    {
     "data": {
      "text/plain": [
       "Property Ownership\n",
       "Freehold                9473\n",
       "Leasehold                 84\n",
       "Co-operative Society      46\n",
       "Power of Attorney         33\n",
       "Name: count, dtype: int64"
      ]
     },
     "execution_count": 60,
     "metadata": {},
     "output_type": "execute_result"
    }
   ],
   "source": [
    "df['Property Ownership'].value_counts()"
   ]
  },
  {
   "cell_type": "code",
   "execution_count": 64,
   "id": "6df22e9b",
   "metadata": {},
   "outputs": [
    {
     "name": "stderr",
     "output_type": "stream",
     "text": [
      "C:\\Users\\aryan\\AppData\\Local\\Temp\\ipykernel_9324\\878152366.py:1: FutureWarning: A value is trying to be set on a copy of a DataFrame or Series through chained assignment using an inplace method.\n",
      "The behavior will change in pandas 3.0. This inplace method will never work because the intermediate object on which we are setting values always behaves as a copy.\n",
      "\n",
      "For example, when doing 'df[col].method(value, inplace=True)', try using 'df.method({col: value}, inplace=True)' or df[col] = df[col].method(value) instead, to perform the operation inplace on the original object.\n",
      "\n",
      "\n",
      "  df['Property Ownership'].replace({'Freehold': 1, 'Leasehold': 0, 'Co-operative Society': 0, 'Power of Attorney': 0}, inplace= True)\n",
      "C:\\Users\\aryan\\AppData\\Local\\Temp\\ipykernel_9324\\878152366.py:1: FutureWarning: Downcasting behavior in `replace` is deprecated and will be removed in a future version. To retain the old behavior, explicitly call `result.infer_objects(copy=False)`. To opt-in to the future behavior, set `pd.set_option('future.no_silent_downcasting', True)`\n",
      "  df['Property Ownership'].replace({'Freehold': 1, 'Leasehold': 0, 'Co-operative Society': 0, 'Power of Attorney': 0}, inplace= True)\n"
     ]
    }
   ],
   "source": [
    "df['Property Ownership'].replace({'Freehold': 1, 'Leasehold': 0, 'Co-operative Society': 0, 'Power of Attorney': 0}, inplace= True)"
   ]
  },
  {
   "cell_type": "code",
   "execution_count": null,
   "id": "54aaa0a6",
   "metadata": {},
   "outputs": [],
   "source": [
    "# df['Property Ownership'] = df['Property Ownership'].astype('int8')"
   ]
  },
  {
   "cell_type": "code",
   "execution_count": 66,
   "id": "2b3cb6e4",
   "metadata": {},
   "outputs": [
    {
     "data": {
      "text/plain": [
       "Furnishing\n",
       "Semifurnished    7438\n",
       "Unfurnished      1586\n",
       "Furnished         612\n",
       "Name: count, dtype: int64"
      ]
     },
     "execution_count": 66,
     "metadata": {},
     "output_type": "execute_result"
    }
   ],
   "source": [
    "df['Furnishing'].value_counts()"
   ]
  },
  {
   "cell_type": "code",
   "execution_count": null,
   "id": "e35d7b11",
   "metadata": {},
   "outputs": [
    {
     "name": "stderr",
     "output_type": "stream",
     "text": [
      "C:\\Users\\aryan\\AppData\\Local\\Temp\\ipykernel_9324\\991648248.py:1: FutureWarning: A value is trying to be set on a copy of a DataFrame or Series through chained assignment using an inplace method.\n",
      "The behavior will change in pandas 3.0. This inplace method will never work because the intermediate object on which we are setting values always behaves as a copy.\n",
      "\n",
      "For example, when doing 'df[col].method(value, inplace=True)', try using 'df.method({col: value}, inplace=True)' or df[col] = df[col].method(value) instead, to perform the operation inplace on the original object.\n",
      "\n",
      "\n",
      "  df['Furnishing'].replace({'Furnished': 2, 'Semifurnished': 1, 'Unfurnished': 0}, inplace= True)\n",
      "C:\\Users\\aryan\\AppData\\Local\\Temp\\ipykernel_9324\\991648248.py:1: FutureWarning: Downcasting behavior in `replace` is deprecated and will be removed in a future version. To retain the old behavior, explicitly call `result.infer_objects(copy=False)`. To opt-in to the future behavior, set `pd.set_option('future.no_silent_downcasting', True)`\n",
      "  df['Furnishing'].replace({'Furnished': 2, 'Semifurnished': 1, 'Unfurnished': 0}, inplace= True)\n"
     ]
    }
   ],
   "source": [
    "# df['Furnishing'].replace({'Furnished': 2, 'Semifurnished': 1, 'Unfurnished': 0}, inplace= True)"
   ]
  },
  {
   "cell_type": "code",
   "execution_count": null,
   "id": "89d5e8c3",
   "metadata": {},
   "outputs": [],
   "source": [
    "# df['Furnishing'] = df['Furnishing'].astype('int8')"
   ]
  },
  {
   "cell_type": "code",
   "execution_count": 69,
   "id": "6496dce2",
   "metadata": {},
   "outputs": [
    {
     "data": {
      "text/plain": [
       "Power Backup\n",
       "Full       7242\n",
       "None       1420\n",
       "Partial     974\n",
       "Name: count, dtype: int64"
      ]
     },
     "execution_count": 69,
     "metadata": {},
     "output_type": "execute_result"
    }
   ],
   "source": [
    "df['Power Backup'].value_counts()"
   ]
  },
  {
   "cell_type": "code",
   "execution_count": null,
   "id": "84d45844",
   "metadata": {},
   "outputs": [
    {
     "name": "stderr",
     "output_type": "stream",
     "text": [
      "C:\\Users\\aryan\\AppData\\Local\\Temp\\ipykernel_9324\\3835295848.py:1: FutureWarning: A value is trying to be set on a copy of a DataFrame or Series through chained assignment using an inplace method.\n",
      "The behavior will change in pandas 3.0. This inplace method will never work because the intermediate object on which we are setting values always behaves as a copy.\n",
      "\n",
      "For example, when doing 'df[col].method(value, inplace=True)', try using 'df.method({col: value}, inplace=True)' or df[col] = df[col].method(value) instead, to perform the operation inplace on the original object.\n",
      "\n",
      "\n",
      "  df['Power Backup'].replace({'Full': 2, 'None': 0, 'Partial': 1}, inplace= True)\n",
      "C:\\Users\\aryan\\AppData\\Local\\Temp\\ipykernel_9324\\3835295848.py:1: FutureWarning: Downcasting behavior in `replace` is deprecated and will be removed in a future version. To retain the old behavior, explicitly call `result.infer_objects(copy=False)`. To opt-in to the future behavior, set `pd.set_option('future.no_silent_downcasting', True)`\n",
      "  df['Power Backup'].replace({'Full': 2, 'None': 0, 'Partial': 1}, inplace= True)\n"
     ]
    }
   ],
   "source": [
    "# df['Power Backup'].replace({'Full': 2, 'None': 0, 'Partial': 1}, inplace= True)"
   ]
  },
  {
   "cell_type": "code",
   "execution_count": null,
   "id": "03ab61fc",
   "metadata": {},
   "outputs": [],
   "source": [
    "# df['Power Backup'] = df['Power Backup'].astype('int8')"
   ]
  },
  {
   "cell_type": "code",
   "execution_count": 64,
   "id": "f38bf844",
   "metadata": {},
   "outputs": [],
   "source": [
    "df.to_csv(r'C:\\Users\\aryan\\OneDrive\\Desktop\\Capstone Project\\Datasets\\data_recommendation_v1.csv')"
   ]
  },
  {
   "cell_type": "code",
   "execution_count": 92,
   "id": "a6fcd145",
   "metadata": {},
   "outputs": [],
   "source": [
    "df = pd.read_csv(r\"C:\\Users\\aryan\\OneDrive\\Desktop\\Capstone Project\\Data Preprocessing New\\data_recommendation_v1.csv\")"
   ]
  },
  {
   "cell_type": "code",
   "execution_count": 93,
   "id": "286e9ab1",
   "metadata": {},
   "outputs": [],
   "source": [
    "pd.set_option('display.max_columns', None)"
   ]
  },
  {
   "cell_type": "code",
   "execution_count": 94,
   "id": "5a352ea3",
   "metadata": {},
   "outputs": [],
   "source": [
    "df.drop(columns= 'Unnamed: 0', inplace= True)"
   ]
  },
  {
   "cell_type": "code",
   "execution_count": 95,
   "id": "7ba05efb",
   "metadata": {},
   "outputs": [
    {
     "data": {
      "text/plain": [
       "Property Ownership\n",
       "Freehold                9473\n",
       "Leasehold                 84\n",
       "Co-operative Society      46\n",
       "Power of Attorney         33\n",
       "Name: count, dtype: int64"
      ]
     },
     "execution_count": 95,
     "metadata": {},
     "output_type": "execute_result"
    }
   ],
   "source": [
    "df['Property Ownership'].value_counts()"
   ]
  },
  {
   "cell_type": "code",
   "execution_count": 96,
   "id": "0d12bb3a",
   "metadata": {},
   "outputs": [],
   "source": [
    "df.drop(columns= 'Property Ownership', inplace= True)"
   ]
  },
  {
   "cell_type": "code",
   "execution_count": 97,
   "id": "f21fb7ea",
   "metadata": {},
   "outputs": [
    {
     "name": "stderr",
     "output_type": "stream",
     "text": [
      "C:\\Users\\aryan\\AppData\\Local\\Temp\\ipykernel_18144\\2349344920.py:1: FutureWarning: A value is trying to be set on a copy of a DataFrame or Series through chained assignment using an inplace method.\n",
      "The behavior will change in pandas 3.0. This inplace method will never work because the intermediate object on which we are setting values always behaves as a copy.\n",
      "\n",
      "For example, when doing 'df[col].method(value, inplace=True)', try using 'df.method({col: value}, inplace=True)' or df[col] = df[col].method(value) instead, to perform the operation inplace on the original object.\n",
      "\n",
      "\n",
      "  df['Furnishing'].replace({'Unfurnished': 0, 'Semifurnished': 1, 'Furnished': 2}, inplace= True)\n",
      "C:\\Users\\aryan\\AppData\\Local\\Temp\\ipykernel_18144\\2349344920.py:1: FutureWarning: Downcasting behavior in `replace` is deprecated and will be removed in a future version. To retain the old behavior, explicitly call `result.infer_objects(copy=False)`. To opt-in to the future behavior, set `pd.set_option('future.no_silent_downcasting', True)`\n",
      "  df['Furnishing'].replace({'Unfurnished': 0, 'Semifurnished': 1, 'Furnished': 2}, inplace= True)\n"
     ]
    }
   ],
   "source": [
    "df['Furnishing'].replace({'Unfurnished': 0, 'Semifurnished': 1, 'Furnished': 2}, inplace= True)"
   ]
  },
  {
   "cell_type": "code",
   "execution_count": 98,
   "id": "d36ade0f",
   "metadata": {},
   "outputs": [
    {
     "data": {
      "text/plain": [
       "Furnishing\n",
       "1    7438\n",
       "0    1586\n",
       "2     612\n",
       "Name: count, dtype: int64"
      ]
     },
     "execution_count": 98,
     "metadata": {},
     "output_type": "execute_result"
    }
   ],
   "source": [
    "df['Furnishing'].value_counts()"
   ]
  },
  {
   "cell_type": "code",
   "execution_count": 99,
   "id": "135f3bd3",
   "metadata": {},
   "outputs": [
    {
     "data": {
      "text/plain": [
       "Power Backup\n",
       "Full       7242\n",
       "Partial     974\n",
       "Name: count, dtype: int64"
      ]
     },
     "execution_count": 99,
     "metadata": {},
     "output_type": "execute_result"
    }
   ],
   "source": [
    "df['Power Backup'].value_counts()"
   ]
  },
  {
   "cell_type": "code",
   "execution_count": 100,
   "id": "33b9d043",
   "metadata": {},
   "outputs": [
    {
     "data": {
      "text/plain": [
       "np.int64(1420)"
      ]
     },
     "execution_count": 100,
     "metadata": {},
     "output_type": "execute_result"
    }
   ],
   "source": [
    "df['Power Backup'].isnull().sum()"
   ]
  },
  {
   "cell_type": "markdown",
   "id": "b1f17788",
   "metadata": {},
   "source": [
    "**Power Backup**"
   ]
  },
  {
   "cell_type": "code",
   "execution_count": 101,
   "id": "e419a44d",
   "metadata": {},
   "outputs": [
    {
     "name": "stderr",
     "output_type": "stream",
     "text": [
      "C:\\Users\\aryan\\AppData\\Local\\Temp\\ipykernel_18144\\2487386233.py:1: FutureWarning: A value is trying to be set on a copy of a DataFrame or Series through chained assignment using an inplace method.\n",
      "The behavior will change in pandas 3.0. This inplace method will never work because the intermediate object on which we are setting values always behaves as a copy.\n",
      "\n",
      "For example, when doing 'df[col].method(value, inplace=True)', try using 'df.method({col: value}, inplace=True)' or df[col] = df[col].method(value) instead, to perform the operation inplace on the original object.\n",
      "\n",
      "\n",
      "  df['Power Backup'].replace({'Partial': 0, 'Full': 1}, inplace= True)\n",
      "C:\\Users\\aryan\\AppData\\Local\\Temp\\ipykernel_18144\\2487386233.py:1: FutureWarning: Downcasting behavior in `replace` is deprecated and will be removed in a future version. To retain the old behavior, explicitly call `result.infer_objects(copy=False)`. To opt-in to the future behavior, set `pd.set_option('future.no_silent_downcasting', True)`\n",
      "  df['Power Backup'].replace({'Partial': 0, 'Full': 1}, inplace= True)\n"
     ]
    }
   ],
   "source": [
    "df['Power Backup'].replace({'Partial': 0, 'Full': 1}, inplace= True)"
   ]
  },
  {
   "cell_type": "code",
   "execution_count": 102,
   "id": "b0d07eb1",
   "metadata": {},
   "outputs": [
    {
     "data": {
      "text/plain": [
       "Power Backup\n",
       "1.0    7242\n",
       "0.0     974\n",
       "Name: count, dtype: int64"
      ]
     },
     "execution_count": 102,
     "metadata": {},
     "output_type": "execute_result"
    }
   ],
   "source": [
    "df['Power Backup'].value_counts()"
   ]
  },
  {
   "cell_type": "code",
   "execution_count": 103,
   "id": "a310f78a",
   "metadata": {},
   "outputs": [],
   "source": [
    "categorical_cols = df.select_dtypes(include=['object', 'category']).columns\n",
    "columns_to_encode = ['Sector']\n",
    "df_encoded = pd.get_dummies(df, columns=columns_to_encode, drop_first=True)"
   ]
  },
  {
   "cell_type": "code",
   "execution_count": 104,
   "id": "6d5ada45",
   "metadata": {},
   "outputs": [],
   "source": [
    "from sklearn.impute import KNNImputer\n",
    "from sklearn.preprocessing import MinMaxScaler\n",
    "\n",
    "scaler = MinMaxScaler()\n",
    "df_scaled = pd.DataFrame(scaler.fit_transform(df_encoded.drop(columns= ['Property Name', 'URL'])), columns= df_encoded.drop(columns= ['Property Name', 'URL']).columns)"
   ]
  },
  {
   "cell_type": "code",
   "execution_count": 105,
   "id": "8a7be2e0",
   "metadata": {},
   "outputs": [],
   "source": [
    "imputer = KNNImputer(n_neighbors= 5)\n",
    "df_imputed_scaled = pd.DataFrame(imputer.fit_transform(df_scaled), columns= df_scaled.columns)\n",
    "df_imputed = pd.DataFrame(scaler.inverse_transform(df_imputed_scaled), columns= df_imputed_scaled.columns, index= df.index)"
   ]
  },
  {
   "cell_type": "code",
   "execution_count": 106,
   "id": "48ac147a",
   "metadata": {},
   "outputs": [],
   "source": [
    "df['Power_Backup_imputed'] = df_imputed['Power Backup']"
   ]
  },
  {
   "cell_type": "code",
   "execution_count": 112,
   "id": "2d6f8f2b",
   "metadata": {},
   "outputs": [
    {
     "data": {
      "text/plain": [
       "Index(['Property Name', 'Sector', 'Price', 'Built Up Area', 'Bedroom',\n",
       "       'Bathroom', 'Balcony', 'Others', 'Pooja Room', 'Servant Room',\n",
       "       'Store Room', 'Study Room', 'Floor Num', 'Total Floor', 'Facing_North',\n",
       "       'Facing_North-East', 'Facing_North-West', 'Facing_South',\n",
       "       'Facing_South-East', 'Facing_South-West', 'Facing_Unknown',\n",
       "       'Facing_West', 'Property Age', 'URL', 'Overlooking_Club',\n",
       "       'Overlooking_Lake facing', 'Overlooking_Main Road',\n",
       "       'Overlooking_Others', 'Overlooking_Park', 'Overlooking_Pool',\n",
       "       'NearbyPlace_Business', 'NearbyPlace_Education',\n",
       "       'NearbyPlace_Financial', 'NearbyPlace_Healthcare',\n",
       "       'NearbyPlace_Leisure', 'NearbyPlace_Religious',\n",
       "       'NearbyPlace_Residentail', 'NearbyPlace_Shopping',\n",
       "       'NearbyPlace_Transport', 'Furnishing', 'Covered_Parking',\n",
       "       'Open_Parking', 'Total Parking', 'Rating', 'Power_Backup_imputed'],\n",
       "      dtype='object')"
      ]
     },
     "execution_count": 112,
     "metadata": {},
     "output_type": "execute_result"
    }
   ],
   "source": [
    "df.columns"
   ]
  },
  {
   "cell_type": "code",
   "execution_count": 108,
   "id": "06ca5c3b",
   "metadata": {},
   "outputs": [],
   "source": [
    "df.drop(columns= 'Power Backup', inplace= True)"
   ]
  },
  {
   "cell_type": "code",
   "execution_count": 113,
   "id": "15b731cc",
   "metadata": {},
   "outputs": [],
   "source": [
    "df.rename(columns= {'Power_Backup_imputed': 'Power Backup'}, inplace= True)"
   ]
  },
  {
   "cell_type": "code",
   "execution_count": 114,
   "id": "7ff1d9d9",
   "metadata": {},
   "outputs": [
    {
     "data": {
      "text/plain": [
       "Power Backup\n",
       "1.0    7698\n",
       "0.0    1056\n",
       "0.6     259\n",
       "0.8     254\n",
       "0.4     210\n",
       "0.2     159\n",
       "Name: count, dtype: int64"
      ]
     },
     "execution_count": 114,
     "metadata": {},
     "output_type": "execute_result"
    }
   ],
   "source": [
    "df['Power Backup'].value_counts()"
   ]
  },
  {
   "cell_type": "code",
   "execution_count": 115,
   "id": "c269a081",
   "metadata": {},
   "outputs": [
    {
     "name": "stderr",
     "output_type": "stream",
     "text": [
      "C:\\Users\\aryan\\AppData\\Local\\Temp\\ipykernel_18144\\2084567346.py:1: FutureWarning: A value is trying to be set on a copy of a DataFrame or Series through chained assignment using an inplace method.\n",
      "The behavior will change in pandas 3.0. This inplace method will never work because the intermediate object on which we are setting values always behaves as a copy.\n",
      "\n",
      "For example, when doing 'df[col].method(value, inplace=True)', try using 'df.method({col: value}, inplace=True)' or df[col] = df[col].method(value) instead, to perform the operation inplace on the original object.\n",
      "\n",
      "\n",
      "  df['Power Backup'].replace({0.2: 0, 0.4: 0, 0.6: 1, 0.8: 1}, inplace= True)\n"
     ]
    }
   ],
   "source": [
    "df['Power Backup'].replace({0.2: 0, 0.4: 0, 0.6: 1, 0.8: 1}, inplace= True)"
   ]
  },
  {
   "cell_type": "code",
   "execution_count": 118,
   "id": "8c8c46ea",
   "metadata": {},
   "outputs": [
    {
     "data": {
      "text/plain": [
       "Power Backup\n",
       "1    8211\n",
       "0    1425\n",
       "Name: count, dtype: int64"
      ]
     },
     "execution_count": 118,
     "metadata": {},
     "output_type": "execute_result"
    }
   ],
   "source": [
    "df['Power Backup'].value_counts()"
   ]
  },
  {
   "cell_type": "code",
   "execution_count": 117,
   "id": "c81ac40c",
   "metadata": {},
   "outputs": [],
   "source": [
    "df['Power Backup'] = df['Power Backup'].astype('int64')"
   ]
  },
  {
   "cell_type": "code",
   "execution_count": 119,
   "id": "06842b8d",
   "metadata": {},
   "outputs": [],
   "source": [
    "df.to_csv(r'C:\\Users\\aryan\\OneDrive\\Desktop\\Capstone Project\\Data Preprocessing New\\data_recommendation_v2.csv')"
   ]
  },
  {
   "cell_type": "code",
   "execution_count": 121,
   "id": "ffd38974",
   "metadata": {},
   "outputs": [],
   "source": [
    "import numpy as np\n",
    "\n",
    "# Assume 'df' is your DataFrame with the columns you listed.\n",
    "# For demonstration, let's create a sample DataFrame.\n",
    "columns = ['Property Name', 'Sector', 'Price', 'Built Up Area',\n",
    "           'Bedroom', 'Bathroom', 'Balcony', 'Others', 'Pooja Room',\n",
    "           'Servant Room', 'Store Room', 'Study Room', 'Floor Num', 'Total Floor',\n",
    "           'Facing_North', 'Facing_North-East', 'Facing_North-West',\n",
    "           'Facing_South', 'Facing_South-East', 'Facing_South-West',\n",
    "           'Facing_Unknown', 'Facing_West', 'Property Age', 'URL',\n",
    "           'Overlooking_Club', 'Overlooking_Lake facing', 'Overlooking_Main Road',\n",
    "           'Overlooking_Others', 'Overlooking_Park', 'Overlooking_Pool',\n",
    "           'NearbyPlace_Business', 'NearbyPlace_Education',\n",
    "           'NearbyPlace_Financial', 'NearbyPlace_Healthcare',\n",
    "           'NearbyPlace_Leisure', 'NearbyPlace_Religious',\n",
    "           'NearbyPlace_Residentail', 'NearbyPlace_Shopping',\n",
    "           'NearbyPlace_Transport', 'Furnishing', 'Covered_Parking',\n",
    "           'Open_Parking', 'Total Parking', 'Rating', 'Power Backup']\n",
    "\n",
    "\n",
    "# --- 1. Combine 'Facing' Columns ---\n",
    "facing_cols = [col for col in df.columns if 'Facing_' in col]\n",
    "# Use idxmax to find the column with the '1' for each row\n",
    "df['Facing'] = df[facing_cols].idxmax(axis=1)\n",
    "# Clean up the prefix\n",
    "df['Facing'] = df['Facing'].str.replace('Facing_', '')\n",
    "\n",
    "\n",
    "# --- 2. Combine 'Overlooking' Columns ---\n",
    "overlooking_cols = [col for col in df.columns if 'Overlooking_' in col]\n",
    "df['Overlooking'] = df[overlooking_cols].idxmax(axis=1)\n",
    "df['Overlooking'] = df['Overlooking'].str.replace('Overlooking_', '')\n",
    "\n",
    "\n",
    "# --- 3. Combine 'NearbyPlace' Columns ---\n",
    "nearby_cols = [col for col in df.columns if 'NearbyPlace_' in col]\n",
    "df['Nearby'] = df[nearby_cols].idxmax(axis=1)\n",
    "df['Nearby'] = df['Nearby'].str.replace('NearbyPlace_', '')\n",
    "\n",
    "\n",
    "# --- 4. Combine \"Extra Rooms\" ---\n",
    "room_cols = ['Pooja Room', 'Servant Room', 'Store Room', 'Study Room']\n",
    "# Sum the values across the columns for each row\n",
    "df['Extra_Rooms'] = df[room_cols].sum(axis=1)\n",
    "\n",
    "\n",
    "# --- 5. Clean up the DataFrame ---\n",
    "# Create a list of all the original columns that we've now combined\n",
    "cols_to_drop = facing_cols + overlooking_cols + nearby_cols + room_cols\n",
    "\n",
    "# Drop the old, granular columns\n",
    "df = df.drop(columns=cols_to_drop)\n",
    "\n",
    "# You can also drop other columns you don't need for the recommender\n",
    "df = df.drop(columns=['Others'])"
   ]
  },
  {
   "cell_type": "code",
   "execution_count": 122,
   "id": "6d90f920",
   "metadata": {},
   "outputs": [],
   "source": [
    "df = df[~(df['Property Age'] == 0)]"
   ]
  },
  {
   "cell_type": "code",
   "execution_count": 123,
   "id": "528f8352",
   "metadata": {},
   "outputs": [
    {
     "data": {
      "text/plain": [
       "Property Age\n",
       "2    4638\n",
       "1    3151\n",
       "3    1392\n",
       "4     449\n",
       "Name: count, dtype: int64"
      ]
     },
     "execution_count": 123,
     "metadata": {},
     "output_type": "execute_result"
    }
   ],
   "source": [
    "df['Property Age'].value_counts()"
   ]
  },
  {
   "cell_type": "code",
   "execution_count": 124,
   "id": "f7a34f7d",
   "metadata": {},
   "outputs": [
    {
     "data": {
      "text/plain": [
       "Power Backup\n",
       "1    8206\n",
       "0    1424\n",
       "Name: count, dtype: int64"
      ]
     },
     "execution_count": 124,
     "metadata": {},
     "output_type": "execute_result"
    }
   ],
   "source": [
    "df['Power Backup'].value_counts()"
   ]
  },
  {
   "cell_type": "code",
   "execution_count": 125,
   "id": "eb44ee38",
   "metadata": {},
   "outputs": [],
   "source": [
    "df1 = pd.read_csv(r'C:\\Users\\aryan\\OneDrive\\Desktop\\Capstone Project\\Data Preprocessing New\\uncleaned_gurgaon_properties_v1.csv')"
   ]
  },
  {
   "cell_type": "code",
   "execution_count": 128,
   "id": "5aa9d9ae",
   "metadata": {},
   "outputs": [
    {
     "data": {
      "text/html": [
       "<div>\n",
       "<style scoped>\n",
       "    .dataframe tbody tr th:only-of-type {\n",
       "        vertical-align: middle;\n",
       "    }\n",
       "\n",
       "    .dataframe tbody tr th {\n",
       "        vertical-align: top;\n",
       "    }\n",
       "\n",
       "    .dataframe thead th {\n",
       "        text-align: right;\n",
       "    }\n",
       "</style>\n",
       "<table border=\"1\" class=\"dataframe\">\n",
       "  <thead>\n",
       "    <tr style=\"text-align: right;\">\n",
       "      <th></th>\n",
       "      <th>Property Name</th>\n",
       "      <th>Sector</th>\n",
       "      <th>Price</th>\n",
       "      <th>Built Up Area</th>\n",
       "      <th>Bedroom</th>\n",
       "      <th>Bathroom</th>\n",
       "      <th>Balcony</th>\n",
       "      <th>Floor Num</th>\n",
       "      <th>Total Floor</th>\n",
       "      <th>Property Age</th>\n",
       "      <th>URL</th>\n",
       "      <th>Furnishing</th>\n",
       "      <th>Covered_Parking</th>\n",
       "      <th>Open_Parking</th>\n",
       "      <th>Total Parking</th>\n",
       "      <th>Rating</th>\n",
       "      <th>Power Backup</th>\n",
       "      <th>Facing</th>\n",
       "      <th>Overlooking</th>\n",
       "      <th>Nearby</th>\n",
       "      <th>Extra_Rooms</th>\n",
       "    </tr>\n",
       "  </thead>\n",
       "  <tbody>\n",
       "    <tr>\n",
       "      <th>3587</th>\n",
       "      <td>BPTP Astaire Gardens</td>\n",
       "      <td>Sector 70</td>\n",
       "      <td>1.85</td>\n",
       "      <td>1500</td>\n",
       "      <td>2</td>\n",
       "      <td>2</td>\n",
       "      <td>3</td>\n",
       "      <td>2</td>\n",
       "      <td>3</td>\n",
       "      <td>1</td>\n",
       "      <td>https://www.99acres.com/2-bhk-bedroom-independent-builder-floor-for-sale-in-bptp-astaire-gardens-sector-70a-gurgaon-1620-sq-ft-spid-Z82921244</td>\n",
       "      <td>0</td>\n",
       "      <td>1</td>\n",
       "      <td>0</td>\n",
       "      <td>1</td>\n",
       "      <td>3.8</td>\n",
       "      <td>1</td>\n",
       "      <td>North</td>\n",
       "      <td>Park</td>\n",
       "      <td>Education</td>\n",
       "      <td>0</td>\n",
       "    </tr>\n",
       "  </tbody>\n",
       "</table>\n",
       "</div>"
      ],
      "text/plain": [
       "             Property Name     Sector  Price  Built Up Area  Bedroom  \\\n",
       "3587  BPTP Astaire Gardens  Sector 70   1.85           1500        2   \n",
       "\n",
       "      Bathroom  Balcony  Floor Num  Total Floor  Property Age  \\\n",
       "3587         2        3          2            3             1   \n",
       "\n",
       "                                                                                                                                                URL  \\\n",
       "3587  https://www.99acres.com/2-bhk-bedroom-independent-builder-floor-for-sale-in-bptp-astaire-gardens-sector-70a-gurgaon-1620-sq-ft-spid-Z82921244   \n",
       "\n",
       "      Furnishing  Covered_Parking  Open_Parking  Total Parking  Rating  \\\n",
       "3587           0                1             0              1     3.8   \n",
       "\n",
       "      Power Backup Facing Overlooking     Nearby  Extra_Rooms  \n",
       "3587             1  North        Park  Education            0  "
      ]
     },
     "execution_count": 128,
     "metadata": {},
     "output_type": "execute_result"
    }
   ],
   "source": [
    "df.sample(1)"
   ]
  },
  {
   "cell_type": "code",
   "execution_count": 126,
   "id": "4de196df",
   "metadata": {},
   "outputs": [
    {
     "data": {
      "text/html": [
       "<div>\n",
       "<style scoped>\n",
       "    .dataframe tbody tr th:only-of-type {\n",
       "        vertical-align: middle;\n",
       "    }\n",
       "\n",
       "    .dataframe tbody tr th {\n",
       "        vertical-align: top;\n",
       "    }\n",
       "\n",
       "    .dataframe thead th {\n",
       "        text-align: right;\n",
       "    }\n",
       "</style>\n",
       "<table border=\"1\" class=\"dataframe\">\n",
       "  <thead>\n",
       "    <tr style=\"text-align: right;\">\n",
       "      <th></th>\n",
       "      <th>Name</th>\n",
       "      <th>Address</th>\n",
       "      <th>Price</th>\n",
       "      <th>Area</th>\n",
       "      <th>Configuration</th>\n",
       "      <th>Floor</th>\n",
       "      <th>Facing</th>\n",
       "      <th>Overlooking</th>\n",
       "      <th>Property Age</th>\n",
       "      <th>URL</th>\n",
       "      <th>Nearby Places</th>\n",
       "      <th>details</th>\n",
       "      <th>Sector</th>\n",
       "    </tr>\n",
       "  </thead>\n",
       "  <tbody>\n",
       "    <tr>\n",
       "      <th>6245</th>\n",
       "      <td>Suncity Essel Towers\\n4.3</td>\n",
       "      <td>Suncity Essel Towers\\nSector 28, Gurgaon</td>\n",
       "      <td>₹ 3.75 Crore\\n@ 13,636 per sq.ft. (All inclusive, Negotiable) View Price Details</td>\n",
       "      <td>Super Built up area 2750\\n(255.48 sq.m.)  \\nsq.ft.</td>\n",
       "      <td>4 Bedrooms , 4 Bathrooms, 3 Balconies with Study Room,Servant Room</td>\n",
       "      <td>14th   of 17 Floors</td>\n",
       "      <td>NaN</td>\n",
       "      <td>Park/Garden,Main Road</td>\n",
       "      <td>10+ Year Old</td>\n",
       "      <td>https://www.99acres.com/4-bhk-bedroom-apartment-flat-for-sale-in-suncity-essel-towers-sector-28-gurgaon-2750-sq-ft-spid-I82240610</td>\n",
       "      <td>['Millennium City\\nAMBIENCE MALL\\nAscent Public\\nThe NorthCap\\nUmkal Hospital\\nIGI\\nGurgaon\\nThe Oberoi']</td>\n",
       "      <td>Transaction Type: :, Resale | Property Ownership: :, Freehold | Flooring: :, Ceramic | Furnishing: :, Semifurnished | Gated Community: :, Yes | Corner Property: :, Yes | Parking: :, 1 Covered | Water Source: :, 24*7 Water | Power Backup: :, Full | Property Code: :, I82240610</td>\n",
       "      <td>Sector 28</td>\n",
       "    </tr>\n",
       "  </tbody>\n",
       "</table>\n",
       "</div>"
      ],
      "text/plain": [
       "                           Name                                   Address  \\\n",
       "6245  Suncity Essel Towers\\n4.3  Suncity Essel Towers\\nSector 28, Gurgaon   \n",
       "\n",
       "                                                                                 Price  \\\n",
       "6245  ₹ 3.75 Crore\\n@ 13,636 per sq.ft. (All inclusive, Negotiable) View Price Details   \n",
       "\n",
       "                                                    Area  \\\n",
       "6245  Super Built up area 2750\\n(255.48 sq.m.)  \\nsq.ft.   \n",
       "\n",
       "                                                           Configuration  \\\n",
       "6245  4 Bedrooms , 4 Bathrooms, 3 Balconies with Study Room,Servant Room   \n",
       "\n",
       "                    Floor Facing            Overlooking  Property Age  \\\n",
       "6245  14th   of 17 Floors    NaN  Park/Garden,Main Road  10+ Year Old   \n",
       "\n",
       "                                                                                                                                    URL  \\\n",
       "6245  https://www.99acres.com/4-bhk-bedroom-apartment-flat-for-sale-in-suncity-essel-towers-sector-28-gurgaon-2750-sq-ft-spid-I82240610   \n",
       "\n",
       "                                                                                                  Nearby Places  \\\n",
       "6245  ['Millennium City\\nAMBIENCE MALL\\nAscent Public\\nThe NorthCap\\nUmkal Hospital\\nIGI\\nGurgaon\\nThe Oberoi']   \n",
       "\n",
       "                                                                                                                                                                                                                                                                                  details  \\\n",
       "6245  Transaction Type: :, Resale | Property Ownership: :, Freehold | Flooring: :, Ceramic | Furnishing: :, Semifurnished | Gated Community: :, Yes | Corner Property: :, Yes | Parking: :, 1 Covered | Water Source: :, 24*7 Water | Power Backup: :, Full | Property Code: :, I82240610   \n",
       "\n",
       "         Sector  \n",
       "6245  Sector 28  "
      ]
     },
     "execution_count": 126,
     "metadata": {},
     "output_type": "execute_result"
    }
   ],
   "source": [
    "df1.sample(1)"
   ]
  },
  {
   "cell_type": "code",
   "execution_count": 129,
   "id": "90fcf96d",
   "metadata": {},
   "outputs": [],
   "source": [
    "nearby_places_df = df1[['URL', 'Nearby Places']]\n",
    "df = pd.merge(df, nearby_places_df, on='URL', how='left')"
   ]
  },
  {
   "cell_type": "code",
   "execution_count": 130,
   "id": "d02323b9",
   "metadata": {},
   "outputs": [
    {
     "data": {
      "text/plain": [
       "(9775, 22)"
      ]
     },
     "execution_count": 130,
     "metadata": {},
     "output_type": "execute_result"
    }
   ],
   "source": [
    "df.shape"
   ]
  },
  {
   "cell_type": "code",
   "execution_count": 131,
   "id": "c34d8783",
   "metadata": {},
   "outputs": [
    {
     "data": {
      "text/plain": [
       "np.int64(175)"
      ]
     },
     "execution_count": 131,
     "metadata": {},
     "output_type": "execute_result"
    }
   ],
   "source": [
    "df.duplicated().sum()"
   ]
  },
  {
   "cell_type": "code",
   "execution_count": 133,
   "id": "7981b467",
   "metadata": {},
   "outputs": [],
   "source": [
    "df.drop_duplicates(inplace= True)"
   ]
  },
  {
   "cell_type": "code",
   "execution_count": 135,
   "id": "3c153102",
   "metadata": {},
   "outputs": [
    {
     "data": {
      "text/html": [
       "<div>\n",
       "<style scoped>\n",
       "    .dataframe tbody tr th:only-of-type {\n",
       "        vertical-align: middle;\n",
       "    }\n",
       "\n",
       "    .dataframe tbody tr th {\n",
       "        vertical-align: top;\n",
       "    }\n",
       "\n",
       "    .dataframe thead th {\n",
       "        text-align: right;\n",
       "    }\n",
       "</style>\n",
       "<table border=\"1\" class=\"dataframe\">\n",
       "  <thead>\n",
       "    <tr style=\"text-align: right;\">\n",
       "      <th></th>\n",
       "      <th>Property Name</th>\n",
       "      <th>Sector</th>\n",
       "      <th>Price</th>\n",
       "      <th>Built Up Area</th>\n",
       "      <th>Bedroom</th>\n",
       "      <th>Bathroom</th>\n",
       "      <th>Balcony</th>\n",
       "      <th>Floor Num</th>\n",
       "      <th>Total Floor</th>\n",
       "      <th>Property Age</th>\n",
       "      <th>URL</th>\n",
       "      <th>Furnishing</th>\n",
       "      <th>Covered_Parking</th>\n",
       "      <th>Open_Parking</th>\n",
       "      <th>Total Parking</th>\n",
       "      <th>Rating</th>\n",
       "      <th>Power Backup</th>\n",
       "      <th>Facing</th>\n",
       "      <th>Overlooking</th>\n",
       "      <th>Nearby</th>\n",
       "      <th>Extra_Rooms</th>\n",
       "      <th>Nearby Places</th>\n",
       "    </tr>\n",
       "  </thead>\n",
       "  <tbody>\n",
       "    <tr>\n",
       "      <th>5786</th>\n",
       "      <td>ATS Kocoon</td>\n",
       "      <td>Sector 109</td>\n",
       "      <td>2.85</td>\n",
       "      <td>1860</td>\n",
       "      <td>3</td>\n",
       "      <td>4</td>\n",
       "      <td>3</td>\n",
       "      <td>19</td>\n",
       "      <td>25</td>\n",
       "      <td>3</td>\n",
       "      <td>https://www.99acres.com/3-bhk-bedroom-apartment-flat-for-sale-in-ats-kocoon-sector-109-gurgaon-2095-sq-ft-spid-B83002984</td>\n",
       "      <td>0</td>\n",
       "      <td>1</td>\n",
       "      <td>1</td>\n",
       "      <td>2</td>\n",
       "      <td>4.2</td>\n",
       "      <td>1</td>\n",
       "      <td>North</td>\n",
       "      <td>Club</td>\n",
       "      <td>Education</td>\n",
       "      <td>1</td>\n",
       "      <td>['Jagdish Super Market\\nDwarka\\nEuro International School\\nGyaananda School\\nSCR Model School\\nRadha Krishan Mandir']</td>\n",
       "    </tr>\n",
       "  </tbody>\n",
       "</table>\n",
       "</div>"
      ],
      "text/plain": [
       "     Property Name      Sector  Price  Built Up Area  Bedroom  Bathroom  \\\n",
       "5786    ATS Kocoon  Sector 109   2.85           1860        3         4   \n",
       "\n",
       "      Balcony  Floor Num  Total Floor  Property Age  \\\n",
       "5786        3         19           25             3   \n",
       "\n",
       "                                                                                                                           URL  \\\n",
       "5786  https://www.99acres.com/3-bhk-bedroom-apartment-flat-for-sale-in-ats-kocoon-sector-109-gurgaon-2095-sq-ft-spid-B83002984   \n",
       "\n",
       "      Furnishing  Covered_Parking  Open_Parking  Total Parking  Rating  \\\n",
       "5786           0                1             1              2     4.2   \n",
       "\n",
       "      Power Backup Facing Overlooking     Nearby  Extra_Rooms  \\\n",
       "5786             1  North        Club  Education            1   \n",
       "\n",
       "                                                                                                              Nearby Places  \n",
       "5786  ['Jagdish Super Market\\nDwarka\\nEuro International School\\nGyaananda School\\nSCR Model School\\nRadha Krishan Mandir']  "
      ]
     },
     "execution_count": 135,
     "metadata": {},
     "output_type": "execute_result"
    }
   ],
   "source": [
    "df.sample(1)"
   ]
  },
  {
   "cell_type": "code",
   "execution_count": 136,
   "id": "ff3e21ad",
   "metadata": {},
   "outputs": [],
   "source": [
    "df['Places'] = df['Nearby Places'].str.strip(\"[]'\")"
   ]
  },
  {
   "cell_type": "code",
   "execution_count": 137,
   "id": "04280fa2",
   "metadata": {},
   "outputs": [],
   "source": [
    "df['Places'] = df['Places'].str.split(r'\\\\n')"
   ]
  },
  {
   "cell_type": "code",
   "execution_count": 138,
   "id": "c0d1d619",
   "metadata": {},
   "outputs": [
    {
     "data": {
      "text/plain": [
       "6262              [Global City Centre Mall, Sohna Road, Western Peripheral Expressway, Shambhu Dayal High School, GD Goenka University]\n",
       "7208    [IFFCO Chowk Metro Station, The Esplanade Mall by DHOOT GROUP, Dwarka Expressway, Delhi Public School, The NorthCap University]\n",
       "Name: Places, dtype: object"
      ]
     },
     "execution_count": 138,
     "metadata": {},
     "output_type": "execute_result"
    }
   ],
   "source": [
    "df['Places'].sample(2)"
   ]
  },
  {
   "cell_type": "code",
   "execution_count": 139,
   "id": "6bef8117",
   "metadata": {},
   "outputs": [
    {
     "data": {
      "text/plain": [
       "Index(['Property Name', 'Sector', 'Price', 'Built Up Area', 'Bedroom',\n",
       "       'Bathroom', 'Balcony', 'Floor Num', 'Total Floor', 'Property Age',\n",
       "       'URL', 'Furnishing', 'Covered_Parking', 'Open_Parking', 'Total Parking',\n",
       "       'Rating', 'Power Backup', 'Facing', 'Overlooking', 'Nearby',\n",
       "       'Extra_Rooms', 'Nearby Places', 'Places'],\n",
       "      dtype='object')"
      ]
     },
     "execution_count": 139,
     "metadata": {},
     "output_type": "execute_result"
    }
   ],
   "source": [
    "df.columns"
   ]
  },
  {
   "cell_type": "code",
   "execution_count": 141,
   "id": "3da61632",
   "metadata": {},
   "outputs": [],
   "source": [
    "df.drop(columns=['Nearby Places', 'Nearby'], inplace= True)"
   ]
  },
  {
   "cell_type": "code",
   "execution_count": 142,
   "id": "47cd4ac5",
   "metadata": {},
   "outputs": [],
   "source": [
    "df.rename(columns= {'Places': 'NearbyPlaces'}, inplace= True)"
   ]
  },
  {
   "cell_type": "code",
   "execution_count": 149,
   "id": "0b4f4b6e",
   "metadata": {},
   "outputs": [
    {
     "data": {
      "text/plain": [
       "['Millennium City Centre Gurugram',\n",
       " 'Town Square 2',\n",
       " 'Manesar Road',\n",
       " 'Sh. S. N. Sidheshwar Sr. Sec. Public',\n",
       " 'Singhania University']"
      ]
     },
     "execution_count": 149,
     "metadata": {},
     "output_type": "execute_result"
    }
   ],
   "source": [
    "df['NearbyPlaces'].iloc[0]"
   ]
  },
  {
   "cell_type": "code",
   "execution_count": 147,
   "id": "861aca32",
   "metadata": {},
   "outputs": [],
   "source": [
    "df.to_csv(r\"C:\\Users\\aryan\\OneDrive\\Desktop\\Capstone Project\\Data Preprocessing New\\data_recommendation_v2.csv\")"
   ]
  },
  {
   "cell_type": "code",
   "execution_count": null,
   "id": "4456183c",
   "metadata": {},
   "outputs": [],
   "source": []
  }
 ],
 "metadata": {
  "kernelspec": {
   "display_name": ".venv",
   "language": "python",
   "name": "python3"
  },
  "language_info": {
   "codemirror_mode": {
    "name": "ipython",
    "version": 3
   },
   "file_extension": ".py",
   "mimetype": "text/x-python",
   "name": "python",
   "nbconvert_exporter": "python",
   "pygments_lexer": "ipython3",
   "version": "3.13.5"
  }
 },
 "nbformat": 4,
 "nbformat_minor": 5
}
