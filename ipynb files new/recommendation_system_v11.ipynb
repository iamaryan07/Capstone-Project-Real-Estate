{
 "cells": [
  {
   "cell_type": "code",
   "execution_count": 76,
   "id": "76bbfb9a",
   "metadata": {},
   "outputs": [],
   "source": [
    "import pandas as pd"
   ]
  },
  {
   "cell_type": "code",
   "execution_count": 77,
   "id": "c3e87a82",
   "metadata": {},
   "outputs": [],
   "source": [
    "df = pd.read_csv(r\"C:\\Users\\aryan\\OneDrive\\Desktop\\Capstone Project\\Data Preprocessing New\\data_recommendation_v2.csv\")"
   ]
  },
  {
   "cell_type": "code",
   "execution_count": 78,
   "id": "83bdba9d",
   "metadata": {},
   "outputs": [
    {
     "data": {
      "text/html": [
       "<div>\n",
       "<style scoped>\n",
       "    .dataframe tbody tr th:only-of-type {\n",
       "        vertical-align: middle;\n",
       "    }\n",
       "\n",
       "    .dataframe tbody tr th {\n",
       "        vertical-align: top;\n",
       "    }\n",
       "\n",
       "    .dataframe thead th {\n",
       "        text-align: right;\n",
       "    }\n",
       "</style>\n",
       "<table border=\"1\" class=\"dataframe\">\n",
       "  <thead>\n",
       "    <tr style=\"text-align: right;\">\n",
       "      <th></th>\n",
       "      <th>Unnamed: 0</th>\n",
       "      <th>Property Name</th>\n",
       "      <th>Sector</th>\n",
       "      <th>Price</th>\n",
       "      <th>Built Up Area</th>\n",
       "      <th>Bedroom</th>\n",
       "      <th>Bathroom</th>\n",
       "      <th>Balcony</th>\n",
       "      <th>Floor Num</th>\n",
       "      <th>Total Floor</th>\n",
       "      <th>Property Age</th>\n",
       "      <th>URL</th>\n",
       "      <th>Furnishing</th>\n",
       "      <th>Covered_Parking</th>\n",
       "      <th>Open_Parking</th>\n",
       "      <th>Total Parking</th>\n",
       "      <th>Rating</th>\n",
       "      <th>Power Backup</th>\n",
       "      <th>Facing</th>\n",
       "      <th>Overlooking</th>\n",
       "      <th>Extra_Rooms</th>\n",
       "      <th>NearbyPlaces</th>\n",
       "    </tr>\n",
       "  </thead>\n",
       "  <tbody>\n",
       "    <tr>\n",
       "      <th>5226</th>\n",
       "      <td>5306</td>\n",
       "      <td>DLF Regal Gardens</td>\n",
       "      <td>Sector 90</td>\n",
       "      <td>2.07</td>\n",
       "      <td>1608</td>\n",
       "      <td>3</td>\n",
       "      <td>3</td>\n",
       "      <td>3</td>\n",
       "      <td>4</td>\n",
       "      <td>29</td>\n",
       "      <td>2</td>\n",
       "      <td>https://www.99acres.com/3-bhk-bedroom-apartmen...</td>\n",
       "      <td>1</td>\n",
       "      <td>1</td>\n",
       "      <td>1</td>\n",
       "      <td>2</td>\n",
       "      <td>4.02</td>\n",
       "      <td>1</td>\n",
       "      <td>North-East</td>\n",
       "      <td>Club</td>\n",
       "      <td>1</td>\n",
       "      <td>['\"SS Omnia, Sector 86', 'Numberdar market, IM...</td>\n",
       "    </tr>\n",
       "  </tbody>\n",
       "</table>\n",
       "</div>"
      ],
      "text/plain": [
       "      Unnamed: 0      Property Name     Sector  Price  Built Up Area  Bedroom  \\\n",
       "5226        5306  DLF Regal Gardens  Sector 90   2.07           1608        3   \n",
       "\n",
       "      Bathroom  Balcony  Floor Num  Total Floor  Property Age  \\\n",
       "5226         3        3          4           29             2   \n",
       "\n",
       "                                                    URL  Furnishing  \\\n",
       "5226  https://www.99acres.com/3-bhk-bedroom-apartmen...           1   \n",
       "\n",
       "      Covered_Parking  Open_Parking  Total Parking  Rating  Power Backup  \\\n",
       "5226                1             1              2    4.02             1   \n",
       "\n",
       "          Facing Overlooking  Extra_Rooms  \\\n",
       "5226  North-East        Club            1   \n",
       "\n",
       "                                           NearbyPlaces  \n",
       "5226  ['\"SS Omnia, Sector 86', 'Numberdar market, IM...  "
      ]
     },
     "execution_count": 78,
     "metadata": {},
     "output_type": "execute_result"
    }
   ],
   "source": [
    "df.sample(1)"
   ]
  },
  {
   "cell_type": "code",
   "execution_count": 79,
   "id": "2837b1b7",
   "metadata": {},
   "outputs": [],
   "source": [
    "df.drop(columns= 'Unnamed: 0', inplace= True)"
   ]
  },
  {
   "cell_type": "code",
   "execution_count": 80,
   "id": "c20d4a58",
   "metadata": {},
   "outputs": [
    {
     "data": {
      "text/plain": [
       "\"['Millennium City Centre Gurugram', 'Town Square 2', 'Manesar Road', 'Sh. S. N. Sidheshwar Sr. Sec. Public', 'Singhania University']\""
      ]
     },
     "execution_count": 80,
     "metadata": {},
     "output_type": "execute_result"
    }
   ],
   "source": [
    "df['NearbyPlaces'].iloc[0]"
   ]
  },
  {
   "cell_type": "code",
   "execution_count": 86,
   "id": "76fe66b7",
   "metadata": {},
   "outputs": [
    {
     "data": {
      "text/plain": [
       "Property Name        0\n",
       "Sector               0\n",
       "Price                0\n",
       "Built Up Area        0\n",
       "Bedroom              0\n",
       "Bathroom             0\n",
       "Balcony              0\n",
       "Floor Num            0\n",
       "Total Floor          0\n",
       "Property Age         0\n",
       "URL                  0\n",
       "Furnishing           0\n",
       "Covered_Parking      0\n",
       "Open_Parking         0\n",
       "Total Parking        0\n",
       "Rating               0\n",
       "Power Backup         0\n",
       "Facing               0\n",
       "Overlooking          0\n",
       "Extra_Rooms          0\n",
       "NearbyPlaces       159\n",
       "dtype: int64"
      ]
     },
     "execution_count": 86,
     "metadata": {},
     "output_type": "execute_result"
    }
   ],
   "source": [
    "df.isnull().sum()"
   ]
  },
  {
   "cell_type": "code",
   "execution_count": 87,
   "id": "512d5efd",
   "metadata": {},
   "outputs": [],
   "source": [
    "df = df[~(df['NearbyPlaces'].isnull())]"
   ]
  },
  {
   "cell_type": "code",
   "execution_count": 88,
   "id": "6b463bee",
   "metadata": {},
   "outputs": [
    {
     "data": {
      "text/plain": [
       "(9441, 21)"
      ]
     },
     "execution_count": 88,
     "metadata": {},
     "output_type": "execute_result"
    }
   ],
   "source": [
    "df.shape"
   ]
  },
  {
   "cell_type": "code",
   "execution_count": 89,
   "id": "d290baac",
   "metadata": {},
   "outputs": [],
   "source": [
    "import ast\n",
    "# Use ast.literal_eval to safely convert the string back into a list\n",
    "df['NearbyPlaces'] = df['NearbyPlaces'].apply(ast.literal_eval)"
   ]
  },
  {
   "cell_type": "code",
   "execution_count": 90,
   "id": "c4fff466",
   "metadata": {},
   "outputs": [],
   "source": [
    "df['NearbyPlacesStr'] = df['NearbyPlaces'].apply(' '.join)"
   ]
  },
  {
   "cell_type": "code",
   "execution_count": 143,
   "id": "a7db8487",
   "metadata": {},
   "outputs": [
    {
     "data": {
      "text/plain": [
       "'Millennium City Centre Gurugram Town Square 2 Manesar Road Sh. S. N. Sidheshwar Sr. Sec. Public Singhania University'"
      ]
     },
     "execution_count": 143,
     "metadata": {},
     "output_type": "execute_result"
    }
   ],
   "source": [
    "df['NearbyPlacesStr'].iloc[0]"
   ]
  },
  {
   "cell_type": "code",
   "execution_count": 144,
   "id": "9693f3d3",
   "metadata": {},
   "outputs": [],
   "source": [
    "from sklearn.feature_extraction.text import TfidfVectorizer\n",
    "from sklearn.metrics.pairwise import cosine_similarity"
   ]
  },
  {
   "cell_type": "code",
   "execution_count": 145,
   "id": "412de403",
   "metadata": {},
   "outputs": [],
   "source": [
    "df['feature_text'] = df['Sector'].str.replace(' ', '') + ' ' + df['NearbyPlaces'].apply(lambda x: ' '.join(x).replace(' ', ''))"
   ]
  },
  {
   "cell_type": "code",
   "execution_count": 146,
   "id": "b631aef9",
   "metadata": {},
   "outputs": [
    {
     "data": {
      "text/plain": [
       "'Sector81 MillenniumCityCentreGurugramTownSquare2ManesarRoadSh.S.N.SidheshwarSr.Sec.PublicSinghaniaUniversity'"
      ]
     },
     "execution_count": 146,
     "metadata": {},
     "output_type": "execute_result"
    }
   ],
   "source": [
    "df.iloc[0]['feature_text']"
   ]
  },
  {
   "cell_type": "code",
   "execution_count": 147,
   "id": "2951b171",
   "metadata": {},
   "outputs": [],
   "source": [
    "tfidf = TfidfVectorizer(stop_words= 'english')"
   ]
  },
  {
   "cell_type": "code",
   "execution_count": 148,
   "id": "1ad83da2",
   "metadata": {},
   "outputs": [],
   "source": [
    "tfidf_matrix = tfidf.fit_transform(df['feature_text'])"
   ]
  },
  {
   "cell_type": "code",
   "execution_count": 149,
   "id": "8aea4beb",
   "metadata": {},
   "outputs": [],
   "source": [
    "cosine_sim = cosine_similarity(tfidf_matrix, tfidf_matrix)"
   ]
  },
  {
   "cell_type": "code",
   "execution_count": 153,
   "id": "7dc008d9",
   "metadata": {},
   "outputs": [],
   "source": [
    "def recommend_properties(property_name, cosine_sim_matrix= cosine_sim, df= df):\n",
    "    '''Find top 5 most similar properties to a given property'''\n",
    "    try:\n",
    "        idx = df[df['Property Name'] == property_name].index[0]\n",
    "    except IndexError:\n",
    "        return f\"Property '{property_name}' not found in the dataset.\"\n",
    "    \n",
    "    \n",
    "    # Get the pairwise similarity scores for this property\n",
    "    sim_scores = list(enumerate(cosine_sim_matrix[idx]))\n",
    "    \n",
    "    # Sort the properties based on the similarity scores\n",
    "    sim_scores = sorted(sim_scores, key= lambda x: x[1], reverse= True)\n",
    "    \n",
    "    # Get the scores of the 5 most similar properties (the first one is the property itself)\n",
    "    # 0 is that property itself\n",
    "    sim_scores = sim_scores[1:500]\n",
    "    \n",
    "    property_indices = [i[0] for i in sim_scores]\n",
    "    similarity_scores = [i[1] for i in sim_scores]\n",
    "    \n",
    "    recommendations_df = pd.DataFrame({\n",
    "        'PropertyName': df['Property Name'].iloc[property_indices],\n",
    "        'SimilarityScore': similarity_scores\n",
    "    })\n",
    "    \n",
    "    # 2. Now, drop the duplicates based on the property name\n",
    "    unique_recommendations = recommendations_df.drop_duplicates(subset=['PropertyName'])\n",
    "    \n",
    "    final_recommendations = unique_recommendations[unique_recommendations['PropertyName'] != property_name]\n",
    "    \n",
    "    # 3. Return the top 5 from this unique list\n",
    "    return final_recommendations.head(5)"
   ]
  },
  {
   "cell_type": "code",
   "execution_count": 154,
   "id": "92ccd67d",
   "metadata": {},
   "outputs": [
    {
     "data": {
      "text/plain": [
       "'Parsvnath Green Ville'"
      ]
     },
     "execution_count": 154,
     "metadata": {},
     "output_type": "execute_result"
    }
   ],
   "source": [
    "df.sample(1)['Property Name'].iloc[0]"
   ]
  },
  {
   "cell_type": "code",
   "execution_count": 156,
   "id": "9017319b",
   "metadata": {},
   "outputs": [
    {
     "data": {
      "text/html": [
       "<div>\n",
       "<style scoped>\n",
       "    .dataframe tbody tr th:only-of-type {\n",
       "        vertical-align: middle;\n",
       "    }\n",
       "\n",
       "    .dataframe tbody tr th {\n",
       "        vertical-align: top;\n",
       "    }\n",
       "\n",
       "    .dataframe thead th {\n",
       "        text-align: right;\n",
       "    }\n",
       "</style>\n",
       "<table border=\"1\" class=\"dataframe\">\n",
       "  <thead>\n",
       "    <tr style=\"text-align: right;\">\n",
       "      <th></th>\n",
       "      <th>PropertyName</th>\n",
       "      <th>SimilarityScore</th>\n",
       "    </tr>\n",
       "  </thead>\n",
       "  <tbody>\n",
       "    <tr>\n",
       "      <th>16</th>\n",
       "      <td>M3M Heights</td>\n",
       "      <td>1.000000</td>\n",
       "    </tr>\n",
       "    <tr>\n",
       "      <th>565</th>\n",
       "      <td>Emaar MGF Emerald Floors Premier</td>\n",
       "      <td>0.281845</td>\n",
       "    </tr>\n",
       "    <tr>\n",
       "      <th>1987</th>\n",
       "      <td>Sector 65, Gurgaon</td>\n",
       "      <td>0.240551</td>\n",
       "    </tr>\n",
       "    <tr>\n",
       "      <th>79</th>\n",
       "      <td>Emaar Emerald Hills</td>\n",
       "      <td>0.233662</td>\n",
       "    </tr>\n",
       "    <tr>\n",
       "      <th>2988</th>\n",
       "      <td>Emmar Hills</td>\n",
       "      <td>0.221157</td>\n",
       "    </tr>\n",
       "  </tbody>\n",
       "</table>\n",
       "</div>"
      ],
      "text/plain": [
       "                          PropertyName  SimilarityScore\n",
       "16                         M3M Heights         1.000000\n",
       "565   Emaar MGF Emerald Floors Premier         0.281845\n",
       "1987                Sector 65, Gurgaon         0.240551\n",
       "79                 Emaar Emerald Hills         0.233662\n",
       "2988                       Emmar Hills         0.221157"
      ]
     },
     "execution_count": 156,
     "metadata": {},
     "output_type": "execute_result"
    }
   ],
   "source": [
    "recommend_properties('Parsvnath Green Ville')"
   ]
  },
  {
   "cell_type": "code",
   "execution_count": null,
   "id": "edfc3586",
   "metadata": {},
   "outputs": [],
   "source": []
  }
 ],
 "metadata": {
  "kernelspec": {
   "display_name": ".venv",
   "language": "python",
   "name": "python3"
  },
  "language_info": {
   "codemirror_mode": {
    "name": "ipython",
    "version": 3
   },
   "file_extension": ".py",
   "mimetype": "text/x-python",
   "name": "python",
   "nbconvert_exporter": "python",
   "pygments_lexer": "ipython3",
   "version": "3.13.5"
  }
 },
 "nbformat": 4,
 "nbformat_minor": 5
}
