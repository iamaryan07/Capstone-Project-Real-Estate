{
 "cells": [
  {
   "cell_type": "code",
   "execution_count": 8,
   "id": "5a35cc73",
   "metadata": {},
   "outputs": [],
   "source": [
    "import pandas as pd"
   ]
  },
  {
   "cell_type": "code",
   "execution_count": 9,
   "id": "e61b4387",
   "metadata": {},
   "outputs": [],
   "source": [
    "df1 = pd.read_csv(r\"C:\\Users\\aryan\\OneDrive\\Desktop\\Capstone Project\\Data Preprocessing New\\raw_gurgaon_data.csv\")\n",
    "df2 = pd.read_csv(r\"C:\\Users\\aryan\\OneDrive\\Desktop\\Web Scraping\\gurgaon_properties_part5.csv\")"
   ]
  },
  {
   "cell_type": "code",
   "execution_count": 10,
   "id": "7ab1468d",
   "metadata": {},
   "outputs": [
    {
     "data": {
      "text/plain": [
       "np.int64(1159)"
      ]
     },
     "execution_count": 10,
     "metadata": {},
     "output_type": "execute_result"
    }
   ],
   "source": [
    "df1['details'].isnull().sum()"
   ]
  },
  {
   "cell_type": "code",
   "execution_count": 11,
   "id": "05296fec",
   "metadata": {},
   "outputs": [
    {
     "data": {
      "text/plain": [
       "np.int64(877)"
      ]
     },
     "execution_count": 11,
     "metadata": {},
     "output_type": "execute_result"
    }
   ],
   "source": [
    "df2['details'].isnull().sum()"
   ]
  },
  {
   "cell_type": "code",
   "execution_count": 12,
   "id": "ddd8af80",
   "metadata": {},
   "outputs": [],
   "source": [
    "df2 = df2[~(df2['details'].isnull())]"
   ]
  },
  {
   "cell_type": "code",
   "execution_count": 13,
   "id": "cfc2d637",
   "metadata": {},
   "outputs": [
    {
     "data": {
      "text/html": [
       "<div>\n",
       "<style scoped>\n",
       "    .dataframe tbody tr th:only-of-type {\n",
       "        vertical-align: middle;\n",
       "    }\n",
       "\n",
       "    .dataframe tbody tr th {\n",
       "        vertical-align: top;\n",
       "    }\n",
       "\n",
       "    .dataframe thead th {\n",
       "        text-align: right;\n",
       "    }\n",
       "</style>\n",
       "<table border=\"1\" class=\"dataframe\">\n",
       "  <thead>\n",
       "    <tr style=\"text-align: right;\">\n",
       "      <th></th>\n",
       "      <th>Unnamed: 0</th>\n",
       "      <th>Name</th>\n",
       "      <th>Address</th>\n",
       "      <th>Price</th>\n",
       "      <th>Area</th>\n",
       "      <th>Configuration</th>\n",
       "      <th>Floor</th>\n",
       "      <th>Facing</th>\n",
       "      <th>Overlooking</th>\n",
       "      <th>Property Age</th>\n",
       "      <th>URL</th>\n",
       "      <th>Nearby Places</th>\n",
       "      <th>details</th>\n",
       "    </tr>\n",
       "  </thead>\n",
       "  <tbody>\n",
       "    <tr>\n",
       "      <th>88</th>\n",
       "      <td>1123</td>\n",
       "      <td>Block-A, DLF City Phase 1, Gurgaon</td>\n",
       "      <td>North-West</td>\n",
       "      <td>Block-A, DLF City Phase 1, Gurgaon</td>\n",
       "      <td>Plot area 500\\n(418.06 sq.m.)  \\nsq.yards</td>\n",
       "      <td>₹ 18.5 Crore\\n@ 3,70,000 per sq.yards (All inc...</td>\n",
       "      <td>Yes</td>\n",
       "      <td>Yes</td>\n",
       "      <td>1</td>\n",
       "      <td>Main Road,Others</td>\n",
       "      <td>https://www.99acres.com/residential-land-plot-...</td>\n",
       "      <td>['Dlf phase 1 metro station\\nSikandarpur metro...</td>\n",
       "      <td>Transaction Type: :, Resale | Property Ownersh...</td>\n",
       "    </tr>\n",
       "    <tr>\n",
       "      <th>99</th>\n",
       "      <td>1278</td>\n",
       "      <td>Block-A, DLF City Phase 1, Gurgaon</td>\n",
       "      <td>North-West</td>\n",
       "      <td>Block-A, DLF City Phase 1, Gurgaon</td>\n",
       "      <td>Plot area 500\\n(418.06 sq.m.)  \\nsq.yards</td>\n",
       "      <td>₹ 18.5 Crore\\n@ 3,70,000 per sq.yards (All inc...</td>\n",
       "      <td>Yes</td>\n",
       "      <td>Yes</td>\n",
       "      <td>1</td>\n",
       "      <td>Main Road,Others</td>\n",
       "      <td>https://www.99acres.com/residential-land-plot-...</td>\n",
       "      <td>['Dlf phase 1 metro station\\nSikandarpur metro...</td>\n",
       "      <td>Transaction Type: :, Resale | Property Ownersh...</td>\n",
       "    </tr>\n",
       "  </tbody>\n",
       "</table>\n",
       "</div>"
      ],
      "text/plain": [
       "    Unnamed: 0                                Name     Address  \\\n",
       "88        1123  Block-A, DLF City Phase 1, Gurgaon  North-West   \n",
       "99        1278  Block-A, DLF City Phase 1, Gurgaon  North-West   \n",
       "\n",
       "                                 Price  \\\n",
       "88  Block-A, DLF City Phase 1, Gurgaon   \n",
       "99  Block-A, DLF City Phase 1, Gurgaon   \n",
       "\n",
       "                                         Area  \\\n",
       "88  Plot area 500\\n(418.06 sq.m.)  \\nsq.yards   \n",
       "99  Plot area 500\\n(418.06 sq.m.)  \\nsq.yards   \n",
       "\n",
       "                                        Configuration Floor Facing  \\\n",
       "88  ₹ 18.5 Crore\\n@ 3,70,000 per sq.yards (All inc...   Yes    Yes   \n",
       "99  ₹ 18.5 Crore\\n@ 3,70,000 per sq.yards (All inc...   Yes    Yes   \n",
       "\n",
       "   Overlooking      Property Age  \\\n",
       "88           1  Main Road,Others   \n",
       "99           1  Main Road,Others   \n",
       "\n",
       "                                                  URL  \\\n",
       "88  https://www.99acres.com/residential-land-plot-...   \n",
       "99  https://www.99acres.com/residential-land-plot-...   \n",
       "\n",
       "                                        Nearby Places  \\\n",
       "88  ['Dlf phase 1 metro station\\nSikandarpur metro...   \n",
       "99  ['Dlf phase 1 metro station\\nSikandarpur metro...   \n",
       "\n",
       "                                              details  \n",
       "88  Transaction Type: :, Resale | Property Ownersh...  \n",
       "99  Transaction Type: :, Resale | Property Ownersh...  "
      ]
     },
     "execution_count": 13,
     "metadata": {},
     "output_type": "execute_result"
    }
   ],
   "source": [
    "df2.head(2)"
   ]
  },
  {
   "cell_type": "code",
   "execution_count": 14,
   "id": "3934efc2",
   "metadata": {},
   "outputs": [],
   "source": [
    "df1 = df1[~(df1['details'].isnull())]"
   ]
  },
  {
   "cell_type": "code",
   "execution_count": 15,
   "id": "efc91fac",
   "metadata": {},
   "outputs": [
    {
     "data": {
      "text/plain": [
       "np.int64(0)"
      ]
     },
     "execution_count": 15,
     "metadata": {},
     "output_type": "execute_result"
    }
   ],
   "source": [
    "df1['details'].isnull().sum()"
   ]
  },
  {
   "cell_type": "code",
   "execution_count": 16,
   "id": "7d40f5b0",
   "metadata": {},
   "outputs": [],
   "source": [
    "df = pd.concat([df1, df2], axis= 0)"
   ]
  },
  {
   "cell_type": "code",
   "execution_count": 17,
   "id": "6183a60a",
   "metadata": {},
   "outputs": [
    {
     "name": "stdout",
     "output_type": "stream",
     "text": [
      "(10177, 13)\n",
      "(9895, 12)\n",
      "(282, 13)\n"
     ]
    }
   ],
   "source": [
    "print(df.shape)\n",
    "print(df1.shape)\n",
    "print(df2.shape)"
   ]
  },
  {
   "cell_type": "code",
   "execution_count": 18,
   "id": "2d79224d",
   "metadata": {},
   "outputs": [],
   "source": [
    "df.to_csv(r\"Data Preprocessing New/gurgaon_properties.csv\")"
   ]
  },
  {
   "cell_type": "code",
   "execution_count": null,
   "id": "7f61d544",
   "metadata": {},
   "outputs": [],
   "source": []
  }
 ],
 "metadata": {
  "kernelspec": {
   "display_name": ".venv",
   "language": "python",
   "name": "python3"
  },
  "language_info": {
   "codemirror_mode": {
    "name": "ipython",
    "version": 3
   },
   "file_extension": ".py",
   "mimetype": "text/x-python",
   "name": "python",
   "nbconvert_exporter": "python",
   "pygments_lexer": "ipython3",
   "version": "3.13.3"
  }
 },
 "nbformat": 4,
 "nbformat_minor": 5
}
